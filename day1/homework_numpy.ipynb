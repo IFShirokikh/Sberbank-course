{
 "cells": [
  {
   "cell_type": "markdown",
   "metadata": {
    "colab_type": "text",
    "id": "j3bbZRkqF3S1"
   },
   "source": [
    "<h3 style=\"text-align: center;\"><b>Физтех-Школа Прикладной математики и информатики (ФПМИ) МФТИ</b></h3>\n"
   ]
  },
  {
   "cell_type": "markdown",
   "metadata": {
    "colab_type": "text",
    "id": "ElNwf2J6GDHg"
   },
   "source": [
    "---"
   ]
  },
  {
   "cell_type": "markdown",
   "metadata": {
    "colab_type": "text",
    "id": "9zWJc5rl9kVh"
   },
   "source": [
    "## Домашнее задание 2: библиотека Numpy и линейная алгебра\n"
   ]
  },
  {
   "cell_type": "markdown",
   "metadata": {
    "colab_type": "text",
    "id": "nq2vjOfwWLwF"
   },
   "source": [
    "Импортируем библиотеки:"
   ]
  },
  {
   "cell_type": "code",
   "execution_count": 2,
   "metadata": {
    "colab": {},
    "colab_type": "code",
    "id": "R0mDEfRJ9kVi"
   },
   "outputs": [],
   "source": [
    "import numpy as np\n",
    "import pandas as pd\n",
    "import matplotlib.pyplot as plt\n",
    "from tqdm import tqdm\n",
    "\n",
    "from scipy import ndimage  # спецификатор для работы с изображениями\n",
    "from scipy import misc\n",
    "import scipy.stats as sps\n",
    "\n",
    "from PIL import Image\n",
    "\n",
    "%matplotlib inline"
   ]
  },
  {
   "cell_type": "markdown",
   "metadata": {
    "colab_type": "text",
    "id": "8t9loOAc9kVm"
   },
   "source": [
    "*Вопросы для самопроверки:*\n",
    "1. Что такое NumPy?\n",
    "2. Зачем используется и почему работает быстрее?\n",
    "3. Что такое линейная алгебра?\n",
    "4. Как она связана с машинным обучением и глубоким обучением?"
   ]
  },
  {
   "cell_type": "markdown",
   "metadata": {
    "colab_type": "text",
    "id": "ZexBy7Kb9kVm"
   },
   "source": [
    "### Задание 1"
   ]
  },
  {
   "cell_type": "markdown",
   "metadata": {
    "colab_type": "text",
    "id": "QuJhYgJU9kVn"
   },
   "source": [
    "В первой задаче вам предлагается перемножить две квадратные матрицы двумя способами -- без использования пакета numpy и с ним."
   ]
  },
  {
   "cell_type": "code",
   "execution_count": 65,
   "metadata": {
    "colab": {},
    "colab_type": "code",
    "id": "506uaq1E9kVn"
   },
   "outputs": [
    {
     "name": "stdout",
     "output_type": "stream",
     "text": [
      "2\n",
      "(10, 10)\n",
      "\n",
      "[[0.01837352 0.52650395 0.86059451 0.23672287 0.18915347 0.2040008\n",
      "  0.76368202 0.50714199 0.29802913 0.11355473]\n",
      " [0.47807712 0.50149882 0.72550535 0.5609632  0.95450258 0.64069568\n",
      "  0.62347619 0.28211789 0.47164948 0.21992532]\n",
      " [0.58411631 0.92083847 0.70066546 0.25455449 0.63866101 0.13098084\n",
      "  0.11498858 0.17770731 0.36632752 0.93252296]\n",
      " [0.61998939 0.34302042 0.99427143 0.17531877 0.82269698 0.5724523\n",
      "  0.69368411 0.84901824 0.89391032 0.35049959]\n",
      " [0.66178299 0.09744594 0.58618296 0.70210568 0.91113099 0.15150227\n",
      "  0.06044133 0.92722922 0.65265442 0.1951798 ]\n",
      " [0.11365115 0.53876724 0.95529959 0.12064303 0.70646951 0.69656841\n",
      "  0.87062317 0.03417775 0.12814437 0.3141601 ]\n",
      " [0.01257733 0.26066955 0.07908522 0.81574381 0.85630702 0.30024176\n",
      "  0.68275526 0.01606882 0.01065652 0.82658318]\n",
      " [0.57668507 0.33203951 0.87934463 0.08198866 0.81383324 0.26894455\n",
      "  0.92033198 0.24718633 0.16923513 0.44993848]\n",
      " [0.35637676 0.51719118 0.59784715 0.95937482 0.56750782 0.5721005\n",
      "  0.14034568 0.39346793 0.59381603 0.92232249]\n",
      " [0.75877494 0.24807438 0.94191983 0.0400605  0.679883   0.09721842\n",
      "  0.23385714 0.02226257 0.71266778 0.02229768]]\n",
      "\n",
      "[[0.58534404 0.39057084 0.50508976 0.86943342 0.21236223 0.12322381\n",
      "  0.18019837 0.48303099 0.0639634  0.4034102 ]\n",
      " [0.88934885 0.16415019 0.50692768 0.05224087 0.66280379 0.69210785\n",
      "  0.06644244 0.03769338 0.09891281 0.10084813]\n",
      " [0.92527332 0.61545273 0.32538783 0.47921959 0.4234941  0.95266882\n",
      "  0.44766523 0.26945281 0.34980873 0.22034056]\n",
      " [0.24973869 0.38979995 0.98777022 0.78229628 0.69441417 0.43913256\n",
      "  0.68659689 0.31000768 0.97847035 0.81576595]\n",
      " [0.09038804 0.00749328 0.91235924 0.66640611 0.50226607 0.9865347\n",
      "  0.81644723 0.48075569 0.18964403 0.20936607]\n",
      " [0.52063298 0.31841781 0.84546537 0.59861237 0.42444556 0.9733539\n",
      "  0.7639289  0.76839581 0.79805565 0.67580863]\n",
      " [0.64409422 0.66383625 0.82213904 0.39699953 0.35901842 0.9366351\n",
      "  0.84972107 0.14631078 0.83819291 0.76245147]\n",
      " [0.47133157 0.74736738 0.25093228 0.01686498 0.82698255 0.40099216\n",
      "  0.63484352 0.79873667 0.01165787 0.1705234 ]\n",
      " [0.020681   0.22558751 0.06381272 0.79668157 0.38028885 0.76455226\n",
      "  0.36836285 0.66390102 0.25825573 0.99215328]\n",
      " [0.13235141 0.24266024 0.6578711  0.86056185 0.66373971 0.94866743\n",
      "  0.38995022 0.07692731 0.25951043 0.66039528]]\n"
     ]
    }
   ],
   "source": [
    "# Для генерации матриц используем фукнцию random -- она используется для генерации случайных объектов \n",
    "# функция sample создает случайную выборку. В качестве аргумента ей передается кортеж (i,j), здесь i -- число строк,\n",
    "# j -- число столбцов.\n",
    "a = np.random.sample((10,10))\n",
    "b = np.random.sample((10,10))\n",
    "# выведите размерность (ранг) каждой матрицы с помощью функции ndim.\n",
    "# Используйте функцию shape, что она вывела?\n",
    "# ========\n",
    "print(a.ndim)\n",
    "print(a.shape)\n",
    "print()\n",
    "# ========\n",
    "print(a)\n",
    "print()\n",
    "print(b)"
   ]
  },
  {
   "cell_type": "code",
   "execution_count": 66,
   "metadata": {
    "colab": {},
    "colab_type": "code",
    "id": "OT01mk-C9kVq"
   },
   "outputs": [],
   "source": [
    "def mult(a, b):\n",
    "    res = np.zeros((a.shape[0], b.shape[1]))\n",
    "    for i in range(a.shape[0]):\n",
    "        for j in range(a.shape[1]):\n",
    "            tmp = 0\n",
    "            for q in range(len(a[i])):\n",
    "                tmp += a[i][q] * b[:, j][q]\n",
    "            res[i,j] = tmp\n",
    "    print(res)\n",
    "    pass"
   ]
  },
  {
   "cell_type": "code",
   "execution_count": 67,
   "metadata": {
    "colab": {},
    "colab_type": "code",
    "id": "AyyDUyqh9kVs"
   },
   "outputs": [],
   "source": [
    "def np_mult(a, b):\n",
    "    print(a @ b)\n",
    "    pass"
   ]
  },
  {
   "cell_type": "code",
   "execution_count": 78,
   "metadata": {
    "colab": {},
    "colab_type": "code",
    "id": "bL4XGWIh9kVu"
   },
   "outputs": [
    {
     "name": "stdout",
     "output_type": "stream",
     "text": [
      "[[2.20981915 1.76267462 1.98391953 1.5361407  1.9455851  2.92988314\n",
      "  2.02129651 1.3050913  1.53706024 1.6601428 ]\n",
      " [2.53048496 1.92988023 3.45656045 3.06527693 2.66454578 4.17511224\n",
      "  3.06653521 2.21701805 2.27994589 2.63040172]\n",
      " [2.28747435 1.4743101  2.71067243 2.73786715 2.53075206 3.58982609\n",
      "  1.98547606 1.46595808 1.28332586 2.01004042]\n",
      " [2.91597123 2.54889518 3.28929637 3.36501147 3.08177037 4.71294918\n",
      "  3.40338027 2.87011571 2.11895776 2.99795573]\n",
      " [1.86828118 1.89168304 2.67969616 2.83606125 2.62910478 3.17464613\n",
      "  2.6863592  2.45115447 1.5183818  2.25248441]\n",
      " [2.50733448 1.70352602 2.93321266 2.28556258 2.11814976 3.95008399\n",
      "  2.60688293 1.50881615 2.04742679 2.03199184]\n",
      " [1.30675444 1.18460014 3.11491489 2.44212228 2.14402913 3.19077705\n",
      "  2.46017414 1.11586723 2.04416404 2.17618357]\n",
      " [2.45288736 1.88767821 2.92207205 2.59917743 2.19262284 3.75661562\n",
      "  2.62257446 1.63040147 1.761294   2.08781311]\n",
      " [2.22068281 1.89741792 3.44459679 3.42368774 3.07951236 4.12764257\n",
      "  2.87275027 2.1625713  2.30092882 2.9880826 ]\n",
      " [1.8371843  1.30651105 1.81555313 2.34683832 1.52321119 2.73946975\n",
      "  1.71580132 1.57049835 1.03439677 1.68328597]]\n",
      "Wall time: 3.96 ms\n"
     ]
    }
   ],
   "source": [
    "%%time\n",
    "# засечем время работы функции без NumPy\n",
    "mult(a,b)"
   ]
  },
  {
   "cell_type": "code",
   "execution_count": 76,
   "metadata": {
    "colab": {},
    "colab_type": "code",
    "id": "Ej9y25jB9kVw"
   },
   "outputs": [
    {
     "name": "stdout",
     "output_type": "stream",
     "text": [
      "[[2.20981915 1.76267462 1.98391953 1.5361407  1.9455851  2.92988314\n",
      "  2.02129651 1.3050913  1.53706024 1.6601428 ]\n",
      " [2.53048496 1.92988023 3.45656045 3.06527693 2.66454578 4.17511224\n",
      "  3.06653521 2.21701805 2.27994589 2.63040172]\n",
      " [2.28747435 1.4743101  2.71067243 2.73786715 2.53075206 3.58982609\n",
      "  1.98547606 1.46595808 1.28332586 2.01004042]\n",
      " [2.91597123 2.54889518 3.28929637 3.36501147 3.08177037 4.71294918\n",
      "  3.40338027 2.87011571 2.11895776 2.99795573]\n",
      " [1.86828118 1.89168304 2.67969616 2.83606125 2.62910478 3.17464613\n",
      "  2.6863592  2.45115447 1.5183818  2.25248441]\n",
      " [2.50733448 1.70352602 2.93321266 2.28556258 2.11814976 3.95008399\n",
      "  2.60688293 1.50881615 2.04742679 2.03199184]\n",
      " [1.30675444 1.18460014 3.11491489 2.44212228 2.14402913 3.19077705\n",
      "  2.46017414 1.11586723 2.04416404 2.17618357]\n",
      " [2.45288736 1.88767821 2.92207205 2.59917743 2.19262284 3.75661562\n",
      "  2.62257446 1.63040147 1.761294   2.08781311]\n",
      " [2.22068281 1.89741792 3.44459679 3.42368774 3.07951236 4.12764257\n",
      "  2.87275027 2.1625713  2.30092882 2.9880826 ]\n",
      " [1.8371843  1.30651105 1.81555313 2.34683832 1.52321119 2.73946975\n",
      "  1.71580132 1.57049835 1.03439677 1.68328597]]\n",
      "Wall time: 2.96 ms\n"
     ]
    }
   ],
   "source": [
    "%%time\n",
    "# засечем время работы функции с NumPy\n",
    "np_mult(a,b)"
   ]
  },
  {
   "cell_type": "markdown",
   "metadata": {
    "colab_type": "text",
    "id": "pNEVDEQJ9kVz"
   },
   "source": [
    "### Задание 2"
   ]
  },
  {
   "cell_type": "markdown",
   "metadata": {
    "colab_type": "text",
    "id": "TNG-vLX_9kVz"
   },
   "source": [
    "Напишите функцию, которая по данной последовательности $\\{A_i\\}_{i=1}^n$ строит последовательность $S_n$, где $S_k = \\frac{A_1 + ... + A_k}{k}$.\n",
    "Аналогично -- с помощью библиотеки NumPy и без нее. Сравните скорость, объясните результат."
   ]
  },
  {
   "cell_type": "code",
   "execution_count": 53,
   "metadata": {
    "colab": {},
    "colab_type": "code",
    "id": "VNuFOp519kV0"
   },
   "outputs": [],
   "source": [
    "# функция, решающая задачу с помощью NumPy\n",
    "def sec_av(A):\n",
    "    res = np.cumsum(A)\n",
    "    res = res / (np.arange(len(A)) + 1)\n",
    "    return res"
   ]
  },
  {
   "cell_type": "code",
   "execution_count": 57,
   "metadata": {
    "colab": {},
    "colab_type": "code",
    "id": "kgKYKkRR9kV2"
   },
   "outputs": [
    {
     "name": "stdout",
     "output_type": "stream",
     "text": [
      "Wall time: 177 ms\n",
      "Wall time: 4.92 s\n"
     ]
    },
    {
     "data": {
      "text/plain": [
       "0.0"
      ]
     },
     "execution_count": 57,
     "metadata": {},
     "output_type": "execute_result"
    }
   ],
   "source": [
    "# функция без NumPy\n",
    "def stupid_sec_av(A):\n",
    "    S = [0 for i in range(len(A))]\n",
    "    cum = 0\n",
    "    for i in range(len(A)):\n",
    "        cum += A[i]\n",
    "        S[i] = cum / (i+ 1)\n",
    "    return S\n",
    "\n",
    "# зададим некоторую последовательность и проверим ее на ваших функциях. \n",
    "# Первая функция должна работать ~ в 50 раз быстрее\n",
    "A = sps.uniform.rvs(size=10 ** 7) \n",
    "\n",
    "%time S1 = sec_av(A)\n",
    "%time S2 = stupid_sec_av(A)\n",
    "#проверим корректность:\n",
    "np.abs(S1 - S2).sum()"
   ]
  },
  {
   "cell_type": "markdown",
   "metadata": {
    "colab_type": "text",
    "id": "hYOmgppl9kV5"
   },
   "source": [
    "### Задание 3"
   ]
  },
  {
   "cell_type": "markdown",
   "metadata": {
    "colab_type": "text",
    "id": "TkrFKdoJ9kV5"
   },
   "source": [
    "Пусть задан некоторый массив $X$. Надо построить новый массив, где все элементы с нечетными индексами требуется заменить на число $a$ (если оно не указано, то на 1). Все четные элементы исходного массива нужно возвести в куб и записать в обратном порядке относительно позиций этих элементов. Массив $X$ при этом должен остаться без изменений. В конце требуется слить массив $X$ с преобразованным $X$ и вывести в обратном порядке."
   ]
  },
  {
   "cell_type": "code",
   "execution_count": 124,
   "metadata": {
    "colab": {},
    "colab_type": "code",
    "id": "MOUotbrS9kV7"
   },
   "outputs": [],
   "source": [
    "# функция, решающая задачу с помощью NumPy\n",
    "def transformation(X, a=1):\n",
    "    Y = X.copy()\n",
    "    Y[1::2] = a\n",
    "    tmp = Y[::2]**3\n",
    "    Y[::2] = tmp[::-1]\n",
    "    Y = np.concatenate((X, Y))\n",
    "    Y = Y[::-1]\n",
    "    return Y"
   ]
  },
  {
   "cell_type": "code",
   "execution_count": 125,
   "metadata": {
    "colab": {},
    "colab_type": "code",
    "id": "Ut3v_joM9kV9"
   },
   "outputs": [],
   "source": [
    "# функция, решающая задачу  без NumPy\n",
    "def stupid_transformation(X, a=1):\n",
    "    res = list(X)\n",
    "    tmp = []\n",
    "    for i in range(len(res)):\n",
    "        if i % 2 == 1:\n",
    "            res[i] = a\n",
    "        else:\n",
    "            tmp.append(res[i]**3)\n",
    "    for i in range(len(res)):\n",
    "        if i % 2 == 0:\n",
    "            res[i] = tmp[len(tmp) - 1 - i // 2]\n",
    "    Y = list(X)\n",
    "    for elem in res:\n",
    "        Y.append(elem)\n",
    "    Y.reverse()\n",
    "    return Y"
   ]
  },
  {
   "cell_type": "code",
   "execution_count": 126,
   "metadata": {
    "colab": {},
    "colab_type": "code",
    "id": "6SezU3-O9kV_"
   },
   "outputs": [
    {
     "name": "stdout",
     "output_type": "stream",
     "text": [
      "Wall time: 293 ms\n",
      "Wall time: 5.92 s\n"
     ]
    },
    {
     "data": {
      "text/plain": [
       "0.0"
      ]
     },
     "execution_count": 126,
     "metadata": {},
     "output_type": "execute_result"
    }
   ],
   "source": [
    "X = sps.uniform.rvs(size=10 ** 7) \n",
    "# здесь код эффективнее примерно в 20 раз. \n",
    "# если Вы вдруг соберетесь печатать массив без np -- лучше сначала посмотрите на его размер\n",
    "%time S1 = transformation(X)\n",
    "%time S2 = stupid_transformation(X)\n",
    "# проверим корректность:\n",
    "np.abs(S1 - S2).sum()"
   ]
  },
  {
   "cell_type": "markdown",
   "metadata": {
    "colab_type": "text",
    "id": "q7eDK6zZ9kWC"
   },
   "source": [
    "Что вы можете сказать о скорости вычислений в `NumPy`? Ответ обоснуйте.\n",
    "\n",
    "**Ответ:** за счет реализации на С++ операции numpy работают существенно быстрее обычных python аналогов"
   ]
  },
  {
   "cell_type": "markdown",
   "metadata": {
    "colab_type": "text",
    "id": "SLWNN0DA9kWF"
   },
   "source": [
    "### Задание 4"
   ]
  },
  {
   "cell_type": "markdown",
   "metadata": {
    "colab_type": "text",
    "id": "k1tdLLo29kWG"
   },
   "source": [
    "Вам подаются на вход два вектора `a` и `b` в трехмерном пространстве.Заполните их случайными числами. Реализуйте их скалярное произведение с помощью  `NumPy` и без. Засеките время работы, как это показано в заданиях выше."
   ]
  },
  {
   "cell_type": "code",
   "execution_count": 51,
   "metadata": {
    "colab": {},
    "colab_type": "code",
    "id": "116WkBP49kWH"
   },
   "outputs": [],
   "source": [
    "a = sps.uniform.rvs(size=(3, )) \n",
    "b = sps.uniform.rvs(size=(3, )) "
   ]
  },
  {
   "cell_type": "code",
   "execution_count": 54,
   "metadata": {
    "colab": {},
    "colab_type": "code",
    "id": "6HKKpgD39kWL"
   },
   "outputs": [],
   "source": [
    "def stupid_scalar_product(a,b):\n",
    "    res = 0\n",
    "    for i in range(len(a)):\n",
    "        res += a[i] * b[i]\n",
    "    return res"
   ]
  },
  {
   "cell_type": "code",
   "execution_count": 53,
   "metadata": {
    "colab": {},
    "colab_type": "code",
    "id": "lta984vp9kWP"
   },
   "outputs": [],
   "source": [
    "def numpy_scalar_product(a,b):\n",
    "    return a @ b"
   ]
  },
  {
   "cell_type": "code",
   "execution_count": 55,
   "metadata": {
    "colab": {},
    "colab_type": "code",
    "id": "5QK3Yj5j9kWR"
   },
   "outputs": [
    {
     "name": "stdout",
     "output_type": "stream",
     "text": [
      "Wall time: 0 ns\n",
      "Wall time: 0 ns\n"
     ]
    },
    {
     "data": {
      "text/plain": [
       "0.0"
      ]
     },
     "execution_count": 55,
     "metadata": {},
     "output_type": "execute_result"
    }
   ],
   "source": [
    "%time product_1 = stupid_scalar_product(a,b)\n",
    "%time product_2 = numpy_scalar_product(a,b)\n",
    "# проверим корректность:\n",
    "np.abs(product_1 - product_2).sum()"
   ]
  },
  {
   "cell_type": "markdown",
   "metadata": {
    "colab_type": "text",
    "id": "H7BjRjaOSPjv"
   },
   "source": [
    "### Задание 5*"
   ]
  },
  {
   "cell_type": "markdown",
   "metadata": {
    "colab_type": "text",
    "id": "yfDNm_8QSPx9"
   },
   "source": [
    "Нужно написать матричное произведение БЕЗ циклов и БЕЗ символа @, БЕЗ `np.dot` и вообще БЕЗ какой-либо вспомогательной функции из `numpy`, то есть пользуясь только индексированием, взятем суммы по нужным осям и поэлементным произведенем (да, это возможно). Рекомендуем гуглить по запросу \"NumPy broadcasting\""
   ]
  },
  {
   "cell_type": "code",
   "execution_count": 6,
   "metadata": {
    "colab": {},
    "colab_type": "code",
    "id": "odEvxgLiSP65"
   },
   "outputs": [],
   "source": [
    "def cool_matrix_product(A, B):\n",
    "    res = A[np.newaxis, :].T * B[:, np.newaxis]\n",
    "    return res.sum(axis=0)"
   ]
  },
  {
   "cell_type": "code",
   "execution_count": 7,
   "metadata": {},
   "outputs": [
    {
     "data": {
      "text/plain": [
       "0.0"
      ]
     },
     "execution_count": 7,
     "metadata": {},
     "output_type": "execute_result"
    }
   ],
   "source": [
    "a = np.random.sample((100,200))\n",
    "b = np.random.sample((200,400))\n",
    "np.abs(cool_matrix_product(a, b) - a @ b).sum()"
   ]
  },
  {
   "cell_type": "markdown",
   "metadata": {
    "colab_type": "text",
    "id": "KrJBnpIQSpVB"
   },
   "source": [
    "Ваш код не будет проверяться нами непосредственно, однако это очень и очень полезное упражнение."
   ]
  },
  {
   "cell_type": "markdown",
   "metadata": {
    "colab_type": "text",
    "id": "J_7dapMK9kWS"
   },
   "source": [
    "## Бонусная часть (в тесте вопросов по ней не будет)"
   ]
  },
  {
   "cell_type": "markdown",
   "metadata": {
    "colab_type": "text",
    "id": "Ld2wo7J49kWT"
   },
   "source": [
    "Image = 2-D численный массив\n",
    "(или 3-D: CT, MRI, 2D + time; 4-D, …)\n",
    "В текущем задании, image == Numpy array (np.array)"
   ]
  },
  {
   "cell_type": "code",
   "execution_count": 58,
   "metadata": {
    "colab": {},
    "colab_type": "code",
    "id": "4OvzTYbo9kWT"
   },
   "outputs": [],
   "source": [
    "pic = misc.face()  # встроенная в библиотеку функция, которая загружает картинку с енотом"
   ]
  },
  {
   "cell_type": "markdown",
   "metadata": {
    "colab_type": "text",
    "id": "7bfaJn7K9kWW"
   },
   "source": [
    "Выведите тип и размеры для переменной pic. Что лежит внутри?"
   ]
  },
  {
   "cell_type": "code",
   "execution_count": 0,
   "metadata": {
    "colab": {},
    "colab_type": "code",
    "id": "MLlpZY-P9kWW"
   },
   "outputs": [],
   "source": [
    "print(#тут ваш код)"
   ]
  },
  {
   "cell_type": "markdown",
   "metadata": {
    "colab_type": "text",
    "id": "x7SVBSJO9kWY"
   },
   "source": [
    "Если вы все сделали правильно, что для формы у вас выведется кортеж из трех чисел: (X, Y, 3). Предположите, откуда там 3?\n",
    "\n",
    "**Ответ:**"
   ]
  },
  {
   "cell_type": "markdown",
   "metadata": {
    "colab_type": "text",
    "id": "4glUbq3J9kWZ"
   },
   "source": [
    "С помощью функции ниже можно вывести изображение и посмотреть, что находится внутри:"
   ]
  },
  {
   "cell_type": "code",
   "execution_count": null,
   "metadata": {
    "colab": {},
    "colab_type": "code",
    "id": "wW3QcdHH9kWZ"
   },
   "outputs": [],
   "source": [
    "plt.imshow(pic)"
   ]
  },
  {
   "cell_type": "markdown",
   "metadata": {
    "colab_type": "text",
    "id": "JZbV8aaV9kWb"
   },
   "source": [
    "Убедитесь, что внутри массива `pic` действительно лежат числа. Выведите первые 10 записей.\n",
    "Массив состоит из троек чисел, которые характеризуют глубину цвета для каждого пикселя. Из пикселей складывается картинка."
   ]
  },
  {
   "cell_type": "code",
   "execution_count": 0,
   "metadata": {
    "colab": {},
    "colab_type": "code",
    "id": "vnO9Nu3p9kWb"
   },
   "outputs": [],
   "source": [
    "print(#тут ваш код)"
   ]
  },
  {
   "cell_type": "markdown",
   "metadata": {
    "colab_type": "text",
    "id": "OzS_dpQ59kWc"
   },
   "source": [
    "Выведите значение максимального элемента в матрице. Выведите значение минимального. Выведите среднее по всем элементам матрице. В каких пределах лежат значения глубины цветов?"
   ]
  },
  {
   "cell_type": "code",
   "execution_count": 0,
   "metadata": {
    "colab": {},
    "colab_type": "code",
    "id": "8nLbvb7G9kWd"
   },
   "outputs": [],
   "source": [
    "print(#тут ваш код)"
   ]
  },
  {
   "cell_type": "markdown",
   "metadata": {
    "colab_type": "text",
    "id": "7s08AjBO9kWf"
   },
   "source": [
    "### Задание 2"
   ]
  },
  {
   "cell_type": "markdown",
   "metadata": {
    "colab_type": "text",
    "id": "pqnS54SN9kWf"
   },
   "source": [
    "Теперь загрузим черно-белое изображение енота, чтобы наш массив был не 3-х мерным тензором, а двумерным массивом. Тензоры обрабатываются точно также, но для простоты пока что давайте работать с двумерными массивами, т.е. матрицами."
   ]
  },
  {
   "cell_type": "code",
   "execution_count": 0,
   "metadata": {
    "colab": {},
    "colab_type": "code",
    "id": "B4WAhqU39kWf"
   },
   "outputs": [],
   "source": [
    "pic = misc.face(gray=True)"
   ]
  },
  {
   "cell_type": "code",
   "execution_count": 0,
   "metadata": {
    "colab": {},
    "colab_type": "code",
    "id": "AWuyI0k69kWh"
   },
   "outputs": [],
   "source": [
    "plt.imshow(#тут ваш код)"
   ]
  },
  {
   "cell_type": "markdown",
   "metadata": {
    "colab_type": "text",
    "id": "5wGZtJnX9kWk"
   },
   "source": [
    "Выведите форму (shape) полученной картинки `pic`. Какие выводы можно сделать? Положите в `h`,`w` высоту и ширину картинки."
   ]
  },
  {
   "cell_type": "code",
   "execution_count": 0,
   "metadata": {
    "colab": {},
    "colab_type": "code",
    "id": "3vVanBzU9kWk"
   },
   "outputs": [],
   "source": [
    "print(#тут ваш код)\n",
    "h,w=#тут ваш код"
   ]
  },
  {
   "cell_type": "markdown",
   "metadata": {
    "colab_type": "text",
    "id": "xelx9Hxc9kWl"
   },
   "source": [
    "Используя библиотеку `numpy`, отразите изображение по горизонтали. Выведите картинку.\n",
    "\n",
    "Подсказка: не забывайте, что изображения -- это просто двумерные массивы"
   ]
  },
  {
   "cell_type": "code",
   "execution_count": 0,
   "metadata": {
    "colab": {},
    "colab_type": "code",
    "id": "PuBAIYwW9kWn"
   },
   "outputs": [],
   "source": [
    "#тут ваш код"
   ]
  },
  {
   "cell_type": "markdown",
   "metadata": {
    "colab_type": "text",
    "id": "XExgeFAR9kWp"
   },
   "source": [
    "Теперь давайте повысим контрастность -- для этого к каждому пикселю прибавим 50 единиц"
   ]
  },
  {
   "cell_type": "code",
   "execution_count": 0,
   "metadata": {
    "colab": {},
    "colab_type": "code",
    "id": "HqPiifvL9kWp"
   },
   "outputs": [],
   "source": [
    "#тут ваш код"
   ]
  },
  {
   "cell_type": "code",
   "execution_count": 0,
   "metadata": {
    "colab": {},
    "colab_type": "code",
    "id": "8mjGfjTK9kWs"
   },
   "outputs": [],
   "source": [
    "plt.imshow(pic)"
   ]
  },
  {
   "cell_type": "markdown",
   "metadata": {
    "colab_type": "text",
    "id": "FPWOUsQH9kWu"
   },
   "source": [
    "Теперь давайте попробуем превратить наше одноканальное изображение в трехканальный (RGB) тензор. Для этого вместо каждого пикселя в одноканальном изображении (в двумерном массиве) поставим кортеж из трех элементов -- глубины красного, зеленого и голубого соотвественно. Восстановить по ч/б картинке цветной мы не можем, так как мы не можем взять утерянную информацию из ниоткуда, но можем усилить черные и белые участки. Для этого давайте заполним все три канала одинаковыми значениями, деленными на что-то очень большое. Например $--$ на $200$.  То есть, например, если в пикселе `pic[i][j]` лежало значение **200**, то для нового изображения `new_pic` мы заполняем `new_pic[i][j]` кортежем из трех чисел `int(pic[i][j]/3)`. Функция `int` $--$ округление до целой части."
   ]
  },
  {
   "cell_type": "code",
   "execution_count": 0,
   "metadata": {
    "colab": {},
    "colab_type": "code",
    "id": "hEK9jRSf9kWv"
   },
   "outputs": [],
   "source": [
    "new_pic = np.zeros((h,w,3)) #создадим пустую матрицу, куда будем записывать значения\n",
    "for i in range(h):\n",
    "    for j in range(w):\n",
    "     #тут ваш код"
   ]
  },
  {
   "cell_type": "code",
   "execution_count": 0,
   "metadata": {
    "colab": {},
    "colab_type": "code",
    "id": "_RUpiNo69kWx"
   },
   "outputs": [],
   "source": [
    "plt.imshow(#тут ваш код)"
   ]
  },
  {
   "cell_type": "markdown",
   "metadata": {
    "colab_type": "text",
    "id": "OVO189tU9kWz"
   },
   "source": [
    "### Задание 3"
   ]
  },
  {
   "cell_type": "markdown",
   "metadata": {
    "colab_type": "text",
    "id": "kacDftwY9kW0"
   },
   "source": [
    "Теперь давайте уменьшим качество картинки в 16 раз, путем уменьшения качества изображения, т.е. теперь 16 пикселей по близости надо заполнить одним значением."
   ]
  },
  {
   "cell_type": "code",
   "execution_count": 0,
   "metadata": {
    "colab": {},
    "colab_type": "code",
    "id": "s21pa_tJ9kW0"
   },
   "outputs": [],
   "source": [
    "from sklearn.datasets import load_sample_image #импорт загрузчика изображения"
   ]
  },
  {
   "cell_type": "code",
   "execution_count": 0,
   "metadata": {
    "colab": {},
    "colab_type": "code",
    "id": "yTt_fdLC9kW2"
   },
   "outputs": [],
   "source": [
    "china = load_sample_image('china.jpg')\n",
    "plt.imshow(china)"
   ]
  },
  {
   "cell_type": "markdown",
   "metadata": {
    "colab_type": "text",
    "id": "CV3st_wn9kW4"
   },
   "source": [
    "Запишите в переменные `h`, `w`, `c` высоту, ширину, количество каналов соответственно для картинки `china`."
   ]
  },
  {
   "cell_type": "code",
   "execution_count": 0,
   "metadata": {
    "colab": {},
    "colab_type": "code",
    "id": "nJHwDMmv9kW4"
   },
   "outputs": [],
   "source": [
    "h, w, c = #тут ваш код"
   ]
  },
  {
   "cell_type": "markdown",
   "metadata": {
    "colab_type": "text",
    "id": "xu3xAGDu9kW5"
   },
   "source": [
    "Теперь давайте непосредственно перейдем к изменению картинки $--$ мы предлагаем разбивать картинки на квадраты 4 на 4 и заполнять все 16 значений внутри квадрата левым верхним значением. Вы можете сделать иначе."
   ]
  },
  {
   "cell_type": "code",
   "execution_count": 0,
   "metadata": {
    "colab": {},
    "colab_type": "code",
    "id": "GisNhXFK9kW6"
   },
   "outputs": [],
   "source": [
    "from copy import copy\n",
    "compressed_pic = copy(china)\n",
    "#тут ваш код     "
   ]
  },
  {
   "cell_type": "markdown",
   "metadata": {
    "colab_type": "text",
    "id": "0Kzb067Y9kW8"
   },
   "source": [
    "Напишите функцию, которая считает несоотвествие между исходной и сжатой картинкой. Запустите ваш код для `compressed_pic`, `china`"
   ]
  },
  {
   "cell_type": "code",
   "execution_count": 0,
   "metadata": {
    "colab": {},
    "colab_type": "code",
    "id": "39qh8JuZ9kW9"
   },
   "outputs": [],
   "source": [
    "def calculate_mismatch(a,b):\n",
    "    mismatch=0\n",
    "    #тут ваш код\n",
    "    print(mismatch)"
   ]
  },
  {
   "cell_type": "code",
   "execution_count": 0,
   "metadata": {
    "colab": {},
    "colab_type": "code",
    "id": "kVYOFPMP9kW_"
   },
   "outputs": [],
   "source": [
    "calculate_mismatch(#тут ваш код)"
   ]
  },
  {
   "cell_type": "markdown",
   "metadata": {
    "colab_type": "text",
    "id": "SxQTJIGs9kXF"
   },
   "source": [
    "Посчитайте синус от каждого значения пикселей изображения `china` по всем каналам. Выведите картинку. Используйте функцию `np.sin` "
   ]
  },
  {
   "cell_type": "code",
   "execution_count": 0,
   "metadata": {
    "colab": {},
    "colab_type": "code",
    "id": "UsXNJxLm9kXF"
   },
   "outputs": [],
   "source": [
    "#тут ваш код"
   ]
  },
  {
   "cell_type": "code",
   "execution_count": 0,
   "metadata": {
    "colab": {},
    "colab_type": "code",
    "id": "v8K8YZ3-9kXH"
   },
   "outputs": [],
   "source": [
    "plt.imshow(#тут ваш код) "
   ]
  },
  {
   "cell_type": "markdown",
   "metadata": {
    "colab_type": "text",
    "id": "0oH0MRQL9kXJ"
   },
   "source": [
    "Посмотрите на полученный результат. Как вы думаете, что можно делать с помощью такого преобразования? Какого рода объекты можно распознать?"
   ]
  },
  {
   "cell_type": "markdown",
   "metadata": {
    "colab_type": "text",
    "id": "KNJq_gfL9kXN"
   },
   "source": [
    "### Задание 4*"
   ]
  },
  {
   "cell_type": "markdown",
   "metadata": {
    "colab_type": "text",
    "id": "4ht209199kXO"
   },
   "source": [
    "Теперь давайте поработаем с аудиофайлами. Стандартный аудиофайл представляет собой обычный набор чисел, в котором хранятся значения частот, снятых с определенной периодичностью. Итак, самая простая аудиодорожка $-$ одномерный массив.\n",
    "\n",
    "Первое, что нужно сделать $--$ установить библиотеку для работы с аудио. Она называется `librosa`. Гайд по установке: https://librosa.github.io/librosa/install.html\n"
   ]
  },
  {
   "cell_type": "code",
   "execution_count": 0,
   "metadata": {
    "colab": {},
    "colab_type": "code",
    "id": "nwg7Hn349kXP"
   },
   "outputs": [],
   "source": [
    "import librosa #импортируем библиотеку\n",
    "import IPython.display"
   ]
  },
  {
   "cell_type": "code",
   "execution_count": 0,
   "metadata": {
    "colab": {},
    "colab_type": "code",
    "id": "kbvx2c_L9kXQ"
   },
   "outputs": [],
   "source": [
    "audio, sr= librosa.load('Test.wav')  \n",
    "# записываем наш массив звуковых частот в файл аудио, sr -- число точек, записываемых в секунду. \n",
    "# чтобы файл открылся, он должен лежать в той же папке, что и файл HW_2.ipynb"
   ]
  },
  {
   "cell_type": "markdown",
   "metadata": {
    "colab_type": "text",
    "id": "w9Tipzz99kXS"
   },
   "source": [
    "Нашу дорожку можно воспроизвести в самом файле `.ipynb`:"
   ]
  },
  {
   "cell_type": "code",
   "execution_count": 0,
   "metadata": {
    "colab": {},
    "colab_type": "code",
    "id": "T2Rr5zTX9kXT"
   },
   "outputs": [],
   "source": [
    "IPython.display.Audio(audio, rate=sr)"
   ]
  },
  {
   "cell_type": "markdown",
   "metadata": {
    "colab_type": "text",
    "id": "QPRjmIoZ9kXW"
   },
   "source": [
    "Выведите тип данных переменной `audio`, найдите ее длительность и среднее."
   ]
  },
  {
   "cell_type": "code",
   "execution_count": 0,
   "metadata": {
    "colab": {},
    "colab_type": "code",
    "id": "ECc4dGk49kXW"
   },
   "outputs": [],
   "source": [
    "print(#тут ваш код)"
   ]
  },
  {
   "cell_type": "markdown",
   "metadata": {
    "colab_type": "text",
    "id": "574hvLOr9kXX"
   },
   "source": [
    "    Давайте посмотрим, как выглядит наша дорожка. Для этого используем библиотеку `matplotlib.pyplot`"
   ]
  },
  {
   "cell_type": "code",
   "execution_count": 0,
   "metadata": {
    "colab": {},
    "colab_type": "code",
    "id": "uW5eBW5Q9kXY"
   },
   "outputs": [],
   "source": [
    "plt.figure(figsize=(25,5))\n",
    "plt.title('Test.wav')\n",
    "plt.plot(audio)"
   ]
  },
  {
   "cell_type": "markdown",
   "metadata": {
    "colab_type": "text",
    "id": "uMboMRu89kXZ"
   },
   "source": [
    "Обрежьте последние 4 секунды файла"
   ]
  },
  {
   "cell_type": "code",
   "execution_count": 0,
   "metadata": {
    "colab": {},
    "colab_type": "code",
    "id": "4CcwvAnb9kXb"
   },
   "outputs": [],
   "source": [
    "audio = #тут ваш код"
   ]
  },
  {
   "cell_type": "markdown",
   "metadata": {
    "colab_type": "text",
    "id": "NQTEVqad9kXd"
   },
   "source": [
    "Давайте уменьшим амплитуду на 25%. Что при этом изменится? Напоминаю, что вы всегда можете послушать изменения при помощи `IPython.display.Audio`"
   ]
  },
  {
   "cell_type": "code",
   "execution_count": 0,
   "metadata": {
    "colab": {},
    "colab_type": "code",
    "id": "aYkN5Tbe9kXd"
   },
   "outputs": [],
   "source": [
    "audio = #тут ваш код"
   ]
  },
  {
   "cell_type": "markdown",
   "metadata": {
    "colab_type": "text",
    "id": "0mEQkKbc9kXf"
   },
   "source": [
    "А еще аудиодорожку можно ускорить. Для этого попробуйте потюнить параметр `rate`"
   ]
  },
  {
   "cell_type": "code",
   "execution_count": 0,
   "metadata": {
    "colab": {},
    "colab_type": "code",
    "id": "kCIh5VqX9kXg"
   },
   "outputs": [],
   "source": [
    "IPython.display.Audio(audio, rate=sr)"
   ]
  }
 ],
 "metadata": {
  "colab": {
   "collapsed_sections": [],
   "name": "[homework]numpy.ipynb",
   "provenance": [],
   "version": "0.3.2"
  },
  "kernelspec": {
   "display_name": "Python 3",
   "language": "python",
   "name": "python3"
  },
  "language_info": {
   "codemirror_mode": {
    "name": "ipython",
    "version": 3
   },
   "file_extension": ".py",
   "mimetype": "text/x-python",
   "name": "python",
   "nbconvert_exporter": "python",
   "pygments_lexer": "ipython3",
   "version": "3.7.3"
  }
 },
 "nbformat": 4,
 "nbformat_minor": 1
}
