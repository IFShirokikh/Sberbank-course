{
 "cells": [
  {
   "cell_type": "code",
   "execution_count": 1,
   "metadata": {},
   "outputs": [],
   "source": [
    "import pandas as pd, numpy as np, time\n",
    "import lightgbm as lgb\n",
    "import xgboost as xgb\n",
    "import catboost as cb\n",
    "from sklearn import metrics\n",
    "from collections import Counter\n",
    "from sklearn.model_selection import train_test_split, GridSearchCV"
   ]
  },
  {
   "cell_type": "code",
   "execution_count": 2,
   "metadata": {},
   "outputs": [
    {
     "name": "stdout",
     "output_type": "stream",
     "text": [
      "(150000, 11)\n"
     ]
    },
    {
     "data": {
      "text/html": [
       "<div>\n",
       "<style scoped>\n",
       "    .dataframe tbody tr th:only-of-type {\n",
       "        vertical-align: middle;\n",
       "    }\n",
       "\n",
       "    .dataframe tbody tr th {\n",
       "        vertical-align: top;\n",
       "    }\n",
       "\n",
       "    .dataframe thead th {\n",
       "        text-align: right;\n",
       "    }\n",
       "</style>\n",
       "<table border=\"1\" class=\"dataframe\">\n",
       "  <thead>\n",
       "    <tr style=\"text-align: right;\">\n",
       "      <th></th>\n",
       "      <th>MONTH</th>\n",
       "      <th>DAY</th>\n",
       "      <th>DAY_OF_WEEK</th>\n",
       "      <th>AIRLINE</th>\n",
       "      <th>FLIGHT_NUMBER</th>\n",
       "      <th>DESTINATION_AIRPORT</th>\n",
       "      <th>ORIGIN_AIRPORT</th>\n",
       "      <th>AIR_TIME</th>\n",
       "      <th>DEPARTURE_TIME</th>\n",
       "      <th>DISTANCE</th>\n",
       "      <th>ARRIVAL_DELAY</th>\n",
       "    </tr>\n",
       "  </thead>\n",
       "  <tbody>\n",
       "    <tr>\n",
       "      <th>0</th>\n",
       "      <td>1</td>\n",
       "      <td>28</td>\n",
       "      <td>3</td>\n",
       "      <td>14</td>\n",
       "      <td>102</td>\n",
       "      <td>717</td>\n",
       "      <td>608</td>\n",
       "      <td>102.0</td>\n",
       "      <td>713.0</td>\n",
       "      <td>634</td>\n",
       "      <td>0</td>\n",
       "    </tr>\n",
       "    <tr>\n",
       "      <th>1</th>\n",
       "      <td>8</td>\n",
       "      <td>11</td>\n",
       "      <td>2</td>\n",
       "      <td>3</td>\n",
       "      <td>152</td>\n",
       "      <td>748</td>\n",
       "      <td>690</td>\n",
       "      <td>134.0</td>\n",
       "      <td>111.0</td>\n",
       "      <td>1028</td>\n",
       "      <td>1</td>\n",
       "    </tr>\n",
       "    <tr>\n",
       "      <th>2</th>\n",
       "      <td>2</td>\n",
       "      <td>4</td>\n",
       "      <td>3</td>\n",
       "      <td>4</td>\n",
       "      <td>1184</td>\n",
       "      <td>597</td>\n",
       "      <td>740</td>\n",
       "      <td>111.0</td>\n",
       "      <td>1734.0</td>\n",
       "      <td>931</td>\n",
       "      <td>0</td>\n",
       "    </tr>\n",
       "    <tr>\n",
       "      <th>3</th>\n",
       "      <td>3</td>\n",
       "      <td>27</td>\n",
       "      <td>5</td>\n",
       "      <td>14</td>\n",
       "      <td>170</td>\n",
       "      <td>770</td>\n",
       "      <td>609</td>\n",
       "      <td>173.0</td>\n",
       "      <td>1807.0</td>\n",
       "      <td>1436</td>\n",
       "      <td>0</td>\n",
       "    </tr>\n",
       "    <tr>\n",
       "      <th>4</th>\n",
       "      <td>8</td>\n",
       "      <td>1</td>\n",
       "      <td>6</td>\n",
       "      <td>14</td>\n",
       "      <td>4321</td>\n",
       "      <td>772</td>\n",
       "      <td>544</td>\n",
       "      <td>63.0</td>\n",
       "      <td>2151.0</td>\n",
       "      <td>481</td>\n",
       "      <td>1</td>\n",
       "    </tr>\n",
       "  </tbody>\n",
       "</table>\n",
       "</div>"
      ],
      "text/plain": [
       "   MONTH  DAY  DAY_OF_WEEK  AIRLINE  FLIGHT_NUMBER  DESTINATION_AIRPORT  \\\n",
       "0      1   28            3       14            102                  717   \n",
       "1      8   11            2        3            152                  748   \n",
       "2      2    4            3        4           1184                  597   \n",
       "3      3   27            5       14            170                  770   \n",
       "4      8    1            6       14           4321                  772   \n",
       "\n",
       "   ORIGIN_AIRPORT  AIR_TIME  DEPARTURE_TIME  DISTANCE  ARRIVAL_DELAY  \n",
       "0             608     102.0           713.0       634              0  \n",
       "1             690     134.0           111.0      1028              1  \n",
       "2             740     111.0          1734.0       931              0  \n",
       "3             609     173.0          1807.0      1436              0  \n",
       "4             544      63.0          2151.0       481              1  "
      ]
     },
     "execution_count": 2,
     "metadata": {},
     "output_type": "execute_result"
    }
   ],
   "source": [
    "data = pd.read_csv(\"flights_short.csv\")\n",
    "print(data.shape)\n",
    "data.head()"
   ]
  },
  {
   "cell_type": "code",
   "execution_count": 3,
   "metadata": {},
   "outputs": [],
   "source": [
    "data = data[[\"MONTH\",\"DAY\",\"DAY_OF_WEEK\",\"AIRLINE\",\"FLIGHT_NUMBER\",\"DESTINATION_AIRPORT\",\n",
    "                 \"ORIGIN_AIRPORT\",\"AIR_TIME\", \"DEPARTURE_TIME\",\"DISTANCE\",\"ARRIVAL_DELAY\"]]"
   ]
  },
  {
   "cell_type": "code",
   "execution_count": 4,
   "metadata": {},
   "outputs": [],
   "source": [
    "data.dropna(inplace=True)"
   ]
  },
  {
   "cell_type": "code",
   "execution_count": 5,
   "metadata": {},
   "outputs": [
    {
     "data": {
      "text/plain": [
       "(150000, 11)"
      ]
     },
     "execution_count": 5,
     "metadata": {},
     "output_type": "execute_result"
    }
   ],
   "source": [
    "data.shape"
   ]
  },
  {
   "cell_type": "code",
   "execution_count": 6,
   "metadata": {},
   "outputs": [],
   "source": [
    "cols = [\"AIRLINE\", \"FLIGHT_NUMBER\", \"DESTINATION_AIRPORT\", \"ORIGIN_AIRPORT\"]\n",
    "for item in cols:\n",
    "    data[item] = data[item].astype(\"category\").cat.codes + 1"
   ]
  },
  {
   "cell_type": "code",
   "execution_count": 7,
   "metadata": {},
   "outputs": [],
   "source": [
    "train, test, y_train, y_test = train_test_split(data.drop([\"ARRIVAL_DELAY\"], axis=1), \n",
    "                                                data[\"ARRIVAL_DELAY\"],\n",
    "                                                random_state=42, test_size=0.25)"
   ]
  },
  {
   "cell_type": "code",
   "execution_count": 8,
   "metadata": {},
   "outputs": [
    {
     "name": "stdout",
     "output_type": "stream",
     "text": [
      "(112500, 10)\n",
      "(112500,)\n",
      "(37500, 10)\n",
      "(37500,)\n"
     ]
    }
   ],
   "source": [
    "print(train.shape)\n",
    "print(y_train.shape)\n",
    "print(test.shape)\n",
    "print(y_test.shape)"
   ]
  },
  {
   "cell_type": "code",
   "execution_count": 9,
   "metadata": {},
   "outputs": [
    {
     "data": {
      "text/plain": [
       "92988     1\n",
       "43658     0\n",
       "110698    0\n",
       "77130     0\n",
       "109216    0\n",
       "64982     0\n",
       "147719    0\n",
       "65298     0\n",
       "34637     0\n",
       "39703     0\n",
       "115085    0\n",
       "16671     0\n",
       "15649     0\n",
       "13076     0\n",
       "71993     0\n",
       "31355     1\n",
       "49082     0\n",
       "37277     0\n",
       "149639    0\n",
       "103190    0\n",
       "6515      0\n",
       "68655     0\n",
       "117433    0\n",
       "103396    0\n",
       "27721     0\n",
       "57433     0\n",
       "36600     0\n",
       "45919     0\n",
       "100315    0\n",
       "76035     0\n",
       "         ..\n",
       "129981    0\n",
       "65725     0\n",
       "123855    0\n",
       "2747      0\n",
       "130523    0\n",
       "149503    0\n",
       "122537    1\n",
       "84478     0\n",
       "130608    0\n",
       "85305     0\n",
       "103355    0\n",
       "5311      0\n",
       "64925     0\n",
       "59735     0\n",
       "769       0\n",
       "64820     0\n",
       "67221     0\n",
       "41090     0\n",
       "16023     0\n",
       "126324    0\n",
       "112727    0\n",
       "87498     0\n",
       "137337    0\n",
       "54886     0\n",
       "110268    1\n",
       "119879    0\n",
       "103694    0\n",
       "131932    0\n",
       "146867    0\n",
       "121958    0\n",
       "Name: ARRIVAL_DELAY, Length: 112500, dtype: int64"
      ]
     },
     "execution_count": 9,
     "metadata": {},
     "output_type": "execute_result"
    }
   ],
   "source": [
    "y_train"
   ]
  },
  {
   "cell_type": "code",
   "execution_count": 10,
   "metadata": {},
   "outputs": [],
   "source": [
    "def auc(model, train, test): \n",
    "    return (metrics.roc_auc_score(y_train, model.predict_proba(train)[:,1]),\n",
    "            metrics.roc_auc_score(y_test, model.predict_proba(test)[:,1]))"
   ]
  },
  {
   "cell_type": "code",
   "execution_count": 11,
   "metadata": {},
   "outputs": [],
   "source": [
    "train=pd.read_csv('X_train.csv')\n",
    "test=pd.read_csv('X_test.csv')\n",
    "y_train=np.array(pd.read_csv('y_train.csv'))\n",
    "y_test=np.array(pd.read_csv('y_test.csv'))"
   ]
  },
  {
   "cell_type": "code",
   "execution_count": 12,
   "metadata": {},
   "outputs": [],
   "source": [
    "y_train = y_train.ravel()"
   ]
  },
  {
   "cell_type": "markdown",
   "metadata": {},
   "source": [
    "---"
   ]
  },
  {
   "cell_type": "code",
   "execution_count": 13,
   "metadata": {},
   "outputs": [],
   "source": [
    "from sklearn.model_selection import KFold\n",
    "from sklearn.model_selection import GridSearchCV\n",
    "\n",
    "from sklearn.metrics import roc_auc_score"
   ]
  },
  {
   "cell_type": "markdown",
   "metadata": {},
   "source": [
    "### LightGBM"
   ]
  },
  {
   "cell_type": "markdown",
   "metadata": {},
   "source": [
    "Сначала подберем параметры с помощью LightGBM"
   ]
  },
  {
   "cell_type": "code",
   "execution_count": 14,
   "metadata": {
    "scrolled": true
   },
   "outputs": [
    {
     "data": {
      "text/plain": [
       "(0.7556001645011479, 0.7227598890343905)"
      ]
     },
     "execution_count": 14,
     "metadata": {},
     "output_type": "execute_result"
    }
   ],
   "source": [
    "model2 = lgb.LGBMClassifier()\n",
    "model2.fit(train, y_train)\n",
    "\n",
    "auc(model2, train, test)"
   ]
  },
  {
   "cell_type": "code",
   "execution_count": 15,
   "metadata": {},
   "outputs": [
    {
     "name": "stdout",
     "output_type": "stream",
     "text": [
      "Fitting 4 folds for each of 8 candidates, totalling 32 fits\n",
      "[CV] colsample_bytree=0.8, gamma=0.1, learning_rate=0.1, max_depth=5, min_child_weight=2, n_estimators=10, reg_alpha=0.0, reg_lambda=1.0, scale_pos_weight=0.27826383365526647, subsample=0.8 \n"
     ]
    },
    {
     "name": "stderr",
     "output_type": "stream",
     "text": [
      "[Parallel(n_jobs=1)]: Using backend SequentialBackend with 1 concurrent workers.\n"
     ]
    },
    {
     "name": "stdout",
     "output_type": "stream",
     "text": [
      "[CV]  colsample_bytree=0.8, gamma=0.1, learning_rate=0.1, max_depth=5, min_child_weight=2, n_estimators=10, reg_alpha=0.0, reg_lambda=1.0, scale_pos_weight=0.27826383365526647, subsample=0.8, score=0.675, total=   1.0s\n",
      "[CV] colsample_bytree=0.8, gamma=0.1, learning_rate=0.1, max_depth=5, min_child_weight=2, n_estimators=10, reg_alpha=0.0, reg_lambda=1.0, scale_pos_weight=0.27826383365526647, subsample=0.8 \n"
     ]
    },
    {
     "name": "stderr",
     "output_type": "stream",
     "text": [
      "[Parallel(n_jobs=1)]: Done   1 out of   1 | elapsed:    1.0s remaining:    0.0s\n"
     ]
    },
    {
     "name": "stdout",
     "output_type": "stream",
     "text": [
      "[CV]  colsample_bytree=0.8, gamma=0.1, learning_rate=0.1, max_depth=5, min_child_weight=2, n_estimators=10, reg_alpha=0.0, reg_lambda=1.0, scale_pos_weight=0.27826383365526647, subsample=0.8, score=0.672, total=   0.9s\n",
      "[CV] colsample_bytree=0.8, gamma=0.1, learning_rate=0.1, max_depth=5, min_child_weight=2, n_estimators=10, reg_alpha=0.0, reg_lambda=1.0, scale_pos_weight=0.27826383365526647, subsample=0.8 \n"
     ]
    },
    {
     "name": "stderr",
     "output_type": "stream",
     "text": [
      "[Parallel(n_jobs=1)]: Done   2 out of   2 | elapsed:    1.9s remaining:    0.0s\n"
     ]
    },
    {
     "name": "stdout",
     "output_type": "stream",
     "text": [
      "[CV]  colsample_bytree=0.8, gamma=0.1, learning_rate=0.1, max_depth=5, min_child_weight=2, n_estimators=10, reg_alpha=0.0, reg_lambda=1.0, scale_pos_weight=0.27826383365526647, subsample=0.8, score=0.666, total=   0.8s\n",
      "[CV] colsample_bytree=0.8, gamma=0.1, learning_rate=0.1, max_depth=5, min_child_weight=2, n_estimators=10, reg_alpha=0.0, reg_lambda=1.0, scale_pos_weight=0.27826383365526647, subsample=0.8 \n"
     ]
    },
    {
     "name": "stderr",
     "output_type": "stream",
     "text": [
      "[Parallel(n_jobs=1)]: Done   3 out of   3 | elapsed:    2.6s remaining:    0.0s\n"
     ]
    },
    {
     "name": "stdout",
     "output_type": "stream",
     "text": [
      "[CV]  colsample_bytree=0.8, gamma=0.1, learning_rate=0.1, max_depth=5, min_child_weight=2, n_estimators=10, reg_alpha=0.0, reg_lambda=1.0, scale_pos_weight=0.27826383365526647, subsample=0.8, score=0.675, total=   0.8s\n",
      "[CV] colsample_bytree=0.8, gamma=0.1, learning_rate=0.1, max_depth=5, min_child_weight=2, n_estimators=30, reg_alpha=0.0, reg_lambda=1.0, scale_pos_weight=0.27826383365526647, subsample=0.8 \n"
     ]
    },
    {
     "name": "stderr",
     "output_type": "stream",
     "text": [
      "[Parallel(n_jobs=1)]: Done   4 out of   4 | elapsed:    3.4s remaining:    0.0s\n"
     ]
    },
    {
     "name": "stdout",
     "output_type": "stream",
     "text": [
      "[CV]  colsample_bytree=0.8, gamma=0.1, learning_rate=0.1, max_depth=5, min_child_weight=2, n_estimators=30, reg_alpha=0.0, reg_lambda=1.0, scale_pos_weight=0.27826383365526647, subsample=0.8, score=0.689, total=   1.4s\n",
      "[CV] colsample_bytree=0.8, gamma=0.1, learning_rate=0.1, max_depth=5, min_child_weight=2, n_estimators=30, reg_alpha=0.0, reg_lambda=1.0, scale_pos_weight=0.27826383365526647, subsample=0.8 \n",
      "[CV]  colsample_bytree=0.8, gamma=0.1, learning_rate=0.1, max_depth=5, min_child_weight=2, n_estimators=30, reg_alpha=0.0, reg_lambda=1.0, scale_pos_weight=0.27826383365526647, subsample=0.8, score=0.689, total=   1.8s\n",
      "[CV] colsample_bytree=0.8, gamma=0.1, learning_rate=0.1, max_depth=5, min_child_weight=2, n_estimators=30, reg_alpha=0.0, reg_lambda=1.0, scale_pos_weight=0.27826383365526647, subsample=0.8 \n",
      "[CV]  colsample_bytree=0.8, gamma=0.1, learning_rate=0.1, max_depth=5, min_child_weight=2, n_estimators=30, reg_alpha=0.0, reg_lambda=1.0, scale_pos_weight=0.27826383365526647, subsample=0.8, score=0.679, total=   1.0s\n",
      "[CV] colsample_bytree=0.8, gamma=0.1, learning_rate=0.1, max_depth=5, min_child_weight=2, n_estimators=30, reg_alpha=0.0, reg_lambda=1.0, scale_pos_weight=0.27826383365526647, subsample=0.8 \n",
      "[CV]  colsample_bytree=0.8, gamma=0.1, learning_rate=0.1, max_depth=5, min_child_weight=2, n_estimators=30, reg_alpha=0.0, reg_lambda=1.0, scale_pos_weight=0.27826383365526647, subsample=0.8, score=0.695, total=   1.2s\n",
      "[CV] colsample_bytree=0.8, gamma=0.1, learning_rate=0.1, max_depth=5, min_child_weight=2, n_estimators=50, reg_alpha=0.0, reg_lambda=1.0, scale_pos_weight=0.27826383365526647, subsample=0.8 \n",
      "[CV]  colsample_bytree=0.8, gamma=0.1, learning_rate=0.1, max_depth=5, min_child_weight=2, n_estimators=50, reg_alpha=0.0, reg_lambda=1.0, scale_pos_weight=0.27826383365526647, subsample=0.8, score=0.700, total=   1.5s\n",
      "[CV] colsample_bytree=0.8, gamma=0.1, learning_rate=0.1, max_depth=5, min_child_weight=2, n_estimators=50, reg_alpha=0.0, reg_lambda=1.0, scale_pos_weight=0.27826383365526647, subsample=0.8 \n",
      "[CV]  colsample_bytree=0.8, gamma=0.1, learning_rate=0.1, max_depth=5, min_child_weight=2, n_estimators=50, reg_alpha=0.0, reg_lambda=1.0, scale_pos_weight=0.27826383365526647, subsample=0.8, score=0.699, total=   1.4s\n",
      "[CV] colsample_bytree=0.8, gamma=0.1, learning_rate=0.1, max_depth=5, min_child_weight=2, n_estimators=50, reg_alpha=0.0, reg_lambda=1.0, scale_pos_weight=0.27826383365526647, subsample=0.8 \n",
      "[CV]  colsample_bytree=0.8, gamma=0.1, learning_rate=0.1, max_depth=5, min_child_weight=2, n_estimators=50, reg_alpha=0.0, reg_lambda=1.0, scale_pos_weight=0.27826383365526647, subsample=0.8, score=0.690, total=   1.4s\n",
      "[CV] colsample_bytree=0.8, gamma=0.1, learning_rate=0.1, max_depth=5, min_child_weight=2, n_estimators=50, reg_alpha=0.0, reg_lambda=1.0, scale_pos_weight=0.27826383365526647, subsample=0.8 \n",
      "[CV]  colsample_bytree=0.8, gamma=0.1, learning_rate=0.1, max_depth=5, min_child_weight=2, n_estimators=50, reg_alpha=0.0, reg_lambda=1.0, scale_pos_weight=0.27826383365526647, subsample=0.8, score=0.703, total=   1.4s\n",
      "[CV] colsample_bytree=0.8, gamma=0.1, learning_rate=0.1, max_depth=5, min_child_weight=2, n_estimators=100, reg_alpha=0.0, reg_lambda=1.0, scale_pos_weight=0.27826383365526647, subsample=0.8 \n",
      "[CV]  colsample_bytree=0.8, gamma=0.1, learning_rate=0.1, max_depth=5, min_child_weight=2, n_estimators=100, reg_alpha=0.0, reg_lambda=1.0, scale_pos_weight=0.27826383365526647, subsample=0.8, score=0.716, total=   2.3s\n",
      "[CV] colsample_bytree=0.8, gamma=0.1, learning_rate=0.1, max_depth=5, min_child_weight=2, n_estimators=100, reg_alpha=0.0, reg_lambda=1.0, scale_pos_weight=0.27826383365526647, subsample=0.8 \n",
      "[CV]  colsample_bytree=0.8, gamma=0.1, learning_rate=0.1, max_depth=5, min_child_weight=2, n_estimators=100, reg_alpha=0.0, reg_lambda=1.0, scale_pos_weight=0.27826383365526647, subsample=0.8, score=0.717, total=   2.2s\n",
      "[CV] colsample_bytree=0.8, gamma=0.1, learning_rate=0.1, max_depth=5, min_child_weight=2, n_estimators=100, reg_alpha=0.0, reg_lambda=1.0, scale_pos_weight=0.27826383365526647, subsample=0.8 \n",
      "[CV]  colsample_bytree=0.8, gamma=0.1, learning_rate=0.1, max_depth=5, min_child_weight=2, n_estimators=100, reg_alpha=0.0, reg_lambda=1.0, scale_pos_weight=0.27826383365526647, subsample=0.8, score=0.707, total=   2.4s\n",
      "[CV] colsample_bytree=0.8, gamma=0.1, learning_rate=0.1, max_depth=5, min_child_weight=2, n_estimators=100, reg_alpha=0.0, reg_lambda=1.0, scale_pos_weight=0.27826383365526647, subsample=0.8 \n",
      "[CV]  colsample_bytree=0.8, gamma=0.1, learning_rate=0.1, max_depth=5, min_child_weight=2, n_estimators=100, reg_alpha=0.0, reg_lambda=1.0, scale_pos_weight=0.27826383365526647, subsample=0.8, score=0.720, total=   2.2s\n",
      "[CV] colsample_bytree=0.8, gamma=0.1, learning_rate=0.1, max_depth=5, min_child_weight=2, n_estimators=200, reg_alpha=0.0, reg_lambda=1.0, scale_pos_weight=0.27826383365526647, subsample=0.8 \n",
      "[CV]  colsample_bytree=0.8, gamma=0.1, learning_rate=0.1, max_depth=5, min_child_weight=2, n_estimators=200, reg_alpha=0.0, reg_lambda=1.0, scale_pos_weight=0.27826383365526647, subsample=0.8, score=0.724, total=   8.8s\n",
      "[CV] colsample_bytree=0.8, gamma=0.1, learning_rate=0.1, max_depth=5, min_child_weight=2, n_estimators=200, reg_alpha=0.0, reg_lambda=1.0, scale_pos_weight=0.27826383365526647, subsample=0.8 \n",
      "[CV]  colsample_bytree=0.8, gamma=0.1, learning_rate=0.1, max_depth=5, min_child_weight=2, n_estimators=200, reg_alpha=0.0, reg_lambda=1.0, scale_pos_weight=0.27826383365526647, subsample=0.8, score=0.727, total=   9.5s\n",
      "[CV] colsample_bytree=0.8, gamma=0.1, learning_rate=0.1, max_depth=5, min_child_weight=2, n_estimators=200, reg_alpha=0.0, reg_lambda=1.0, scale_pos_weight=0.27826383365526647, subsample=0.8 \n",
      "[CV]  colsample_bytree=0.8, gamma=0.1, learning_rate=0.1, max_depth=5, min_child_weight=2, n_estimators=200, reg_alpha=0.0, reg_lambda=1.0, scale_pos_weight=0.27826383365526647, subsample=0.8, score=0.718, total=   9.7s\n",
      "[CV] colsample_bytree=0.8, gamma=0.1, learning_rate=0.1, max_depth=5, min_child_weight=2, n_estimators=200, reg_alpha=0.0, reg_lambda=1.0, scale_pos_weight=0.27826383365526647, subsample=0.8 \n",
      "[CV]  colsample_bytree=0.8, gamma=0.1, learning_rate=0.1, max_depth=5, min_child_weight=2, n_estimators=200, reg_alpha=0.0, reg_lambda=1.0, scale_pos_weight=0.27826383365526647, subsample=0.8, score=0.728, total=   9.6s\n",
      "[CV] colsample_bytree=0.8, gamma=0.1, learning_rate=0.1, max_depth=5, min_child_weight=2, n_estimators=400, reg_alpha=0.0, reg_lambda=1.0, scale_pos_weight=0.27826383365526647, subsample=0.8 \n",
      "[CV]  colsample_bytree=0.8, gamma=0.1, learning_rate=0.1, max_depth=5, min_child_weight=2, n_estimators=400, reg_alpha=0.0, reg_lambda=1.0, scale_pos_weight=0.27826383365526647, subsample=0.8, score=0.731, total=  13.7s\n",
      "[CV] colsample_bytree=0.8, gamma=0.1, learning_rate=0.1, max_depth=5, min_child_weight=2, n_estimators=400, reg_alpha=0.0, reg_lambda=1.0, scale_pos_weight=0.27826383365526647, subsample=0.8 \n",
      "[CV]  colsample_bytree=0.8, gamma=0.1, learning_rate=0.1, max_depth=5, min_child_weight=2, n_estimators=400, reg_alpha=0.0, reg_lambda=1.0, scale_pos_weight=0.27826383365526647, subsample=0.8, score=0.734, total=  13.2s\n",
      "[CV] colsample_bytree=0.8, gamma=0.1, learning_rate=0.1, max_depth=5, min_child_weight=2, n_estimators=400, reg_alpha=0.0, reg_lambda=1.0, scale_pos_weight=0.27826383365526647, subsample=0.8 \n",
      "[CV]  colsample_bytree=0.8, gamma=0.1, learning_rate=0.1, max_depth=5, min_child_weight=2, n_estimators=400, reg_alpha=0.0, reg_lambda=1.0, scale_pos_weight=0.27826383365526647, subsample=0.8, score=0.727, total=  11.5s\n",
      "[CV] colsample_bytree=0.8, gamma=0.1, learning_rate=0.1, max_depth=5, min_child_weight=2, n_estimators=400, reg_alpha=0.0, reg_lambda=1.0, scale_pos_weight=0.27826383365526647, subsample=0.8 \n",
      "[CV]  colsample_bytree=0.8, gamma=0.1, learning_rate=0.1, max_depth=5, min_child_weight=2, n_estimators=400, reg_alpha=0.0, reg_lambda=1.0, scale_pos_weight=0.27826383365526647, subsample=0.8, score=0.732, total=  11.8s\n",
      "[CV] colsample_bytree=0.8, gamma=0.1, learning_rate=0.1, max_depth=5, min_child_weight=2, n_estimators=600, reg_alpha=0.0, reg_lambda=1.0, scale_pos_weight=0.27826383365526647, subsample=0.8 \n"
     ]
    },
    {
     "name": "stdout",
     "output_type": "stream",
     "text": [
      "[CV]  colsample_bytree=0.8, gamma=0.1, learning_rate=0.1, max_depth=5, min_child_weight=2, n_estimators=600, reg_alpha=0.0, reg_lambda=1.0, scale_pos_weight=0.27826383365526647, subsample=0.8, score=0.733, total=  13.7s\n",
      "[CV] colsample_bytree=0.8, gamma=0.1, learning_rate=0.1, max_depth=5, min_child_weight=2, n_estimators=600, reg_alpha=0.0, reg_lambda=1.0, scale_pos_weight=0.27826383365526647, subsample=0.8 \n",
      "[CV]  colsample_bytree=0.8, gamma=0.1, learning_rate=0.1, max_depth=5, min_child_weight=2, n_estimators=600, reg_alpha=0.0, reg_lambda=1.0, scale_pos_weight=0.27826383365526647, subsample=0.8, score=0.737, total=  18.2s\n",
      "[CV] colsample_bytree=0.8, gamma=0.1, learning_rate=0.1, max_depth=5, min_child_weight=2, n_estimators=600, reg_alpha=0.0, reg_lambda=1.0, scale_pos_weight=0.27826383365526647, subsample=0.8 \n",
      "[CV]  colsample_bytree=0.8, gamma=0.1, learning_rate=0.1, max_depth=5, min_child_weight=2, n_estimators=600, reg_alpha=0.0, reg_lambda=1.0, scale_pos_weight=0.27826383365526647, subsample=0.8, score=0.728, total=  14.5s\n",
      "[CV] colsample_bytree=0.8, gamma=0.1, learning_rate=0.1, max_depth=5, min_child_weight=2, n_estimators=600, reg_alpha=0.0, reg_lambda=1.0, scale_pos_weight=0.27826383365526647, subsample=0.8 \n",
      "[CV]  colsample_bytree=0.8, gamma=0.1, learning_rate=0.1, max_depth=5, min_child_weight=2, n_estimators=600, reg_alpha=0.0, reg_lambda=1.0, scale_pos_weight=0.27826383365526647, subsample=0.8, score=0.733, total=  15.2s\n",
      "[CV] colsample_bytree=0.8, gamma=0.1, learning_rate=0.1, max_depth=5, min_child_weight=2, n_estimators=1000, reg_alpha=0.0, reg_lambda=1.0, scale_pos_weight=0.27826383365526647, subsample=0.8 \n",
      "[CV]  colsample_bytree=0.8, gamma=0.1, learning_rate=0.1, max_depth=5, min_child_weight=2, n_estimators=1000, reg_alpha=0.0, reg_lambda=1.0, scale_pos_weight=0.27826383365526647, subsample=0.8, score=0.734, total=  33.6s\n",
      "[CV] colsample_bytree=0.8, gamma=0.1, learning_rate=0.1, max_depth=5, min_child_weight=2, n_estimators=1000, reg_alpha=0.0, reg_lambda=1.0, scale_pos_weight=0.27826383365526647, subsample=0.8 \n",
      "[CV]  colsample_bytree=0.8, gamma=0.1, learning_rate=0.1, max_depth=5, min_child_weight=2, n_estimators=1000, reg_alpha=0.0, reg_lambda=1.0, scale_pos_weight=0.27826383365526647, subsample=0.8, score=0.737, total=  30.0s\n",
      "[CV] colsample_bytree=0.8, gamma=0.1, learning_rate=0.1, max_depth=5, min_child_weight=2, n_estimators=1000, reg_alpha=0.0, reg_lambda=1.0, scale_pos_weight=0.27826383365526647, subsample=0.8 \n",
      "[CV]  colsample_bytree=0.8, gamma=0.1, learning_rate=0.1, max_depth=5, min_child_weight=2, n_estimators=1000, reg_alpha=0.0, reg_lambda=1.0, scale_pos_weight=0.27826383365526647, subsample=0.8, score=0.730, total=  25.0s\n",
      "[CV] colsample_bytree=0.8, gamma=0.1, learning_rate=0.1, max_depth=5, min_child_weight=2, n_estimators=1000, reg_alpha=0.0, reg_lambda=1.0, scale_pos_weight=0.27826383365526647, subsample=0.8 \n",
      "[CV]  colsample_bytree=0.8, gamma=0.1, learning_rate=0.1, max_depth=5, min_child_weight=2, n_estimators=1000, reg_alpha=0.0, reg_lambda=1.0, scale_pos_weight=0.27826383365526647, subsample=0.8, score=0.734, total=  20.3s\n"
     ]
    },
    {
     "name": "stderr",
     "output_type": "stream",
     "text": [
      "[Parallel(n_jobs=1)]: Done  32 out of  32 | elapsed:  4.7min finished\n"
     ]
    },
    {
     "name": "stdout",
     "output_type": "stream",
     "text": [
      "Best score (AUC):  0.733740370000131\n",
      "Best params: \n"
     ]
    },
    {
     "data": {
      "text/plain": [
       "{'boosting_type': 'gbdt',\n",
       " 'class_weight': None,\n",
       " 'colsample_bytree': 0.8,\n",
       " 'importance_type': 'split',\n",
       " 'learning_rate': 0.1,\n",
       " 'max_depth': 5,\n",
       " 'min_child_samples': 20,\n",
       " 'min_child_weight': 2,\n",
       " 'min_split_gain': 0.0,\n",
       " 'n_estimators': 1000,\n",
       " 'n_jobs': -1,\n",
       " 'num_leaves': 31,\n",
       " 'objective': None,\n",
       " 'random_state': None,\n",
       " 'reg_alpha': 0.0,\n",
       " 'reg_lambda': 1.0,\n",
       " 'silent': True,\n",
       " 'subsample': 0.8,\n",
       " 'subsample_for_bin': 200000,\n",
       " 'subsample_freq': 0,\n",
       " 'gamma': 0.1,\n",
       " 'scale_pos_weight': 0.27826383365526647}"
      ]
     },
     "execution_count": 15,
     "metadata": {},
     "output_type": "execute_result"
    }
   ],
   "source": [
    "ones_ratio = y_train[y_train == 1].shape[0] * 1.0 / y_train[y_train == 0].shape[0] # посчитаем соотношение между классами\n",
    "\n",
    "param_grid = {\n",
    "    # параметры ансамбля\n",
    "    'n_estimators': [10, 30, 50, 100, 200, 400, 600, 1000],\n",
    "    'learning_rate': [0.1],\n",
    "    \n",
    "    # параметры дерева\n",
    "    'max_depth': [5],\n",
    "    'min_child_weight': [2],\n",
    "    'gamma': [0.1],\n",
    "    'subsample': [0.8],\n",
    "    'colsample_bytree': [0.8],\n",
    "    'scale_pos_weight': [ones_ratio],\n",
    "    \n",
    "    # параметры регуляризации\n",
    "    'reg_alpha': [0.0],\n",
    "    'reg_lambda': [1.0]\n",
    "}\n",
    "\n",
    "cv = KFold(n_splits=4, shuffle=True)\n",
    "\n",
    "model2 = lgb.LGBMClassifier()\n",
    "gs = GridSearchCV(model2, param_grid, scoring='roc_auc', cv=cv, verbose=5)\n",
    "\n",
    "gs.fit(train, y_train)\n",
    "best_params = gs.best_estimator_.get_params()\n",
    "print('Best score (AUC): ', gs.best_score_)\n",
    "print('Best params: ')\n",
    "best_params"
   ]
  },
  {
   "cell_type": "code",
   "execution_count": 16,
   "metadata": {},
   "outputs": [
    {
     "name": "stdout",
     "output_type": "stream",
     "text": [
      "Fitting 4 folds for each of 12 candidates, totalling 48 fits\n",
      "[CV] max_depth=3, min_child_weight=1 .................................\n"
     ]
    },
    {
     "name": "stderr",
     "output_type": "stream",
     "text": [
      "[Parallel(n_jobs=1)]: Using backend SequentialBackend with 1 concurrent workers.\n"
     ]
    },
    {
     "name": "stdout",
     "output_type": "stream",
     "text": [
      "[CV] ..... max_depth=3, min_child_weight=1, score=0.731, total=  15.2s\n",
      "[CV] max_depth=3, min_child_weight=1 .................................\n"
     ]
    },
    {
     "name": "stderr",
     "output_type": "stream",
     "text": [
      "[Parallel(n_jobs=1)]: Done   1 out of   1 | elapsed:   15.2s remaining:    0.0s\n"
     ]
    },
    {
     "name": "stdout",
     "output_type": "stream",
     "text": [
      "[CV] ..... max_depth=3, min_child_weight=1, score=0.727, total=  14.9s\n",
      "[CV] max_depth=3, min_child_weight=1 .................................\n"
     ]
    },
    {
     "name": "stderr",
     "output_type": "stream",
     "text": [
      "[Parallel(n_jobs=1)]: Done   2 out of   2 | elapsed:   30.1s remaining:    0.0s\n"
     ]
    },
    {
     "name": "stdout",
     "output_type": "stream",
     "text": [
      "[CV] ..... max_depth=3, min_child_weight=1, score=0.730, total=  15.5s\n",
      "[CV] max_depth=3, min_child_weight=1 .................................\n"
     ]
    },
    {
     "name": "stderr",
     "output_type": "stream",
     "text": [
      "[Parallel(n_jobs=1)]: Done   3 out of   3 | elapsed:   45.6s remaining:    0.0s\n"
     ]
    },
    {
     "name": "stdout",
     "output_type": "stream",
     "text": [
      "[CV] ..... max_depth=3, min_child_weight=1, score=0.729, total=  15.4s\n",
      "[CV] max_depth=3, min_child_weight=3 .................................\n"
     ]
    },
    {
     "name": "stderr",
     "output_type": "stream",
     "text": [
      "[Parallel(n_jobs=1)]: Done   4 out of   4 | elapsed:  1.0min remaining:    0.0s\n"
     ]
    },
    {
     "name": "stdout",
     "output_type": "stream",
     "text": [
      "[CV] ..... max_depth=3, min_child_weight=3, score=0.730, total=  15.2s\n",
      "[CV] max_depth=3, min_child_weight=3 .................................\n",
      "[CV] ..... max_depth=3, min_child_weight=3, score=0.726, total=  15.5s\n",
      "[CV] max_depth=3, min_child_weight=3 .................................\n",
      "[CV] ..... max_depth=3, min_child_weight=3, score=0.731, total=  15.1s\n",
      "[CV] max_depth=3, min_child_weight=3 .................................\n",
      "[CV] ..... max_depth=3, min_child_weight=3, score=0.730, total=  15.4s\n",
      "[CV] max_depth=3, min_child_weight=5 .................................\n",
      "[CV] ..... max_depth=3, min_child_weight=5, score=0.729, total=  15.4s\n",
      "[CV] max_depth=3, min_child_weight=5 .................................\n",
      "[CV] ..... max_depth=3, min_child_weight=5, score=0.726, total=  15.5s\n",
      "[CV] max_depth=3, min_child_weight=5 .................................\n",
      "[CV] ..... max_depth=3, min_child_weight=5, score=0.731, total=  15.3s\n",
      "[CV] max_depth=3, min_child_weight=5 .................................\n",
      "[CV] ..... max_depth=3, min_child_weight=5, score=0.728, total=  15.9s\n",
      "[CV] max_depth=5, min_child_weight=1 .................................\n",
      "[CV] ..... max_depth=5, min_child_weight=1, score=0.739, total=  20.2s\n",
      "[CV] max_depth=5, min_child_weight=1 .................................\n",
      "[CV] ..... max_depth=5, min_child_weight=1, score=0.732, total=  20.5s\n",
      "[CV] max_depth=5, min_child_weight=1 .................................\n",
      "[CV] ..... max_depth=5, min_child_weight=1, score=0.737, total=  22.4s\n",
      "[CV] max_depth=5, min_child_weight=1 .................................\n",
      "[CV] ..... max_depth=5, min_child_weight=1, score=0.732, total=  20.1s\n",
      "[CV] max_depth=5, min_child_weight=3 .................................\n",
      "[CV] ..... max_depth=5, min_child_weight=3, score=0.737, total=  20.1s\n",
      "[CV] max_depth=5, min_child_weight=3 .................................\n",
      "[CV] ..... max_depth=5, min_child_weight=3, score=0.733, total=  17.3s\n",
      "[CV] max_depth=5, min_child_weight=3 .................................\n",
      "[CV] ..... max_depth=5, min_child_weight=3, score=0.736, total=  17.2s\n",
      "[CV] max_depth=5, min_child_weight=3 .................................\n",
      "[CV] ..... max_depth=5, min_child_weight=3, score=0.733, total=  16.9s\n",
      "[CV] max_depth=5, min_child_weight=5 .................................\n",
      "[CV] ..... max_depth=5, min_child_weight=5, score=0.738, total=  17.3s\n",
      "[CV] max_depth=5, min_child_weight=5 .................................\n",
      "[CV] ..... max_depth=5, min_child_weight=5, score=0.734, total=  18.2s\n",
      "[CV] max_depth=5, min_child_weight=5 .................................\n",
      "[CV] ..... max_depth=5, min_child_weight=5, score=0.736, total=  16.8s\n",
      "[CV] max_depth=5, min_child_weight=5 .................................\n",
      "[CV] ..... max_depth=5, min_child_weight=5, score=0.734, total=  16.8s\n",
      "[CV] max_depth=7, min_child_weight=1 .................................\n",
      "[CV] ..... max_depth=7, min_child_weight=1, score=0.739, total=  16.5s\n",
      "[CV] max_depth=7, min_child_weight=1 .................................\n",
      "[CV] ..... max_depth=7, min_child_weight=1, score=0.734, total=  16.8s\n",
      "[CV] max_depth=7, min_child_weight=1 .................................\n",
      "[CV] ..... max_depth=7, min_child_weight=1, score=0.737, total=  16.5s\n",
      "[CV] max_depth=7, min_child_weight=1 .................................\n",
      "[CV] ..... max_depth=7, min_child_weight=1, score=0.733, total=  16.5s\n",
      "[CV] max_depth=7, min_child_weight=3 .................................\n",
      "[CV] ..... max_depth=7, min_child_weight=3, score=0.739, total=  18.1s\n",
      "[CV] max_depth=7, min_child_weight=3 .................................\n",
      "[CV] ..... max_depth=7, min_child_weight=3, score=0.733, total=  17.4s\n",
      "[CV] max_depth=7, min_child_weight=3 .................................\n",
      "[CV] ..... max_depth=7, min_child_weight=3, score=0.737, total=  17.4s\n",
      "[CV] max_depth=7, min_child_weight=3 .................................\n",
      "[CV] ..... max_depth=7, min_child_weight=3, score=0.733, total=  17.5s\n",
      "[CV] max_depth=7, min_child_weight=5 .................................\n",
      "[CV] ..... max_depth=7, min_child_weight=5, score=0.739, total=  18.0s\n",
      "[CV] max_depth=7, min_child_weight=5 .................................\n",
      "[CV] ..... max_depth=7, min_child_weight=5, score=0.734, total=  16.0s\n",
      "[CV] max_depth=7, min_child_weight=5 .................................\n",
      "[CV] ..... max_depth=7, min_child_weight=5, score=0.736, total=  15.3s\n",
      "[CV] max_depth=7, min_child_weight=5 .................................\n",
      "[CV] ..... max_depth=7, min_child_weight=5, score=0.733, total=  16.4s\n",
      "[CV] max_depth=9, min_child_weight=1 .................................\n",
      "[CV] ..... max_depth=9, min_child_weight=1, score=0.737, total=  14.3s\n",
      "[CV] max_depth=9, min_child_weight=1 .................................\n",
      "[CV] ..... max_depth=9, min_child_weight=1, score=0.734, total=  14.4s\n",
      "[CV] max_depth=9, min_child_weight=1 .................................\n",
      "[CV] ..... max_depth=9, min_child_weight=1, score=0.740, total=  14.1s\n",
      "[CV] max_depth=9, min_child_weight=1 .................................\n",
      "[CV] ..... max_depth=9, min_child_weight=1, score=0.732, total=  14.2s\n",
      "[CV] max_depth=9, min_child_weight=3 .................................\n",
      "[CV] ..... max_depth=9, min_child_weight=3, score=0.739, total=  14.9s\n",
      "[CV] max_depth=9, min_child_weight=3 .................................\n",
      "[CV] ..... max_depth=9, min_child_weight=3, score=0.735, total=  15.0s\n",
      "[CV] max_depth=9, min_child_weight=3 .................................\n",
      "[CV] ..... max_depth=9, min_child_weight=3, score=0.737, total=  14.7s\n",
      "[CV] max_depth=9, min_child_weight=3 .................................\n",
      "[CV] ..... max_depth=9, min_child_weight=3, score=0.734, total=  15.1s\n",
      "[CV] max_depth=9, min_child_weight=5 .................................\n",
      "[CV] ..... max_depth=9, min_child_weight=5, score=0.738, total=  15.1s\n",
      "[CV] max_depth=9, min_child_weight=5 .................................\n",
      "[CV] ..... max_depth=9, min_child_weight=5, score=0.734, total=  15.3s\n",
      "[CV] max_depth=9, min_child_weight=5 .................................\n",
      "[CV] ..... max_depth=9, min_child_weight=5, score=0.737, total=  15.5s\n",
      "[CV] max_depth=9, min_child_weight=5 .................................\n",
      "[CV] ..... max_depth=9, min_child_weight=5, score=0.732, total=  15.3s\n"
     ]
    },
    {
     "name": "stderr",
     "output_type": "stream",
     "text": [
      "[Parallel(n_jobs=1)]: Done  48 out of  48 | elapsed: 13.1min finished\n"
     ]
    },
    {
     "name": "stdout",
     "output_type": "stream",
     "text": [
      "Best score (AUC):  0.7361107451183581\n",
      "Best params: \n"
     ]
    },
    {
     "data": {
      "text/plain": [
       "{'boosting_type': 'gbdt',\n",
       " 'class_weight': None,\n",
       " 'colsample_bytree': 0.8,\n",
       " 'importance_type': 'split',\n",
       " 'learning_rate': 0.1,\n",
       " 'max_depth': 9,\n",
       " 'min_child_samples': 20,\n",
       " 'min_child_weight': 3,\n",
       " 'min_split_gain': 0.0,\n",
       " 'n_estimators': 1000,\n",
       " 'n_jobs': -1,\n",
       " 'num_leaves': 31,\n",
       " 'objective': None,\n",
       " 'random_state': None,\n",
       " 'reg_alpha': 0.0,\n",
       " 'reg_lambda': 1.0,\n",
       " 'silent': True,\n",
       " 'subsample': 0.8,\n",
       " 'subsample_for_bin': 200000,\n",
       " 'subsample_freq': 0,\n",
       " 'gamma': 0.1,\n",
       " 'scale_pos_weight': 0.27826383365526647}"
      ]
     },
     "execution_count": 16,
     "metadata": {},
     "output_type": "execute_result"
    }
   ],
   "source": [
    "param_grid = {\n",
    "    'max_depth': range(3, 10, 2),\n",
    "    'min_child_weight': range(1, 6, 2)\n",
    "}\n",
    "\n",
    "model2 = lgb.LGBMClassifier(**best_params)\n",
    "gs = GridSearchCV(model2, param_grid, scoring='roc_auc', cv=cv, verbose=5)\n",
    "\n",
    "gs.fit(train, y_train)\n",
    "best_params = gs.best_estimator_.get_params()\n",
    "print('Best score (AUC): ', gs.best_score_)\n",
    "print('Best params: ')\n",
    "best_params"
   ]
  },
  {
   "cell_type": "code",
   "execution_count": 17,
   "metadata": {
    "scrolled": true
   },
   "outputs": [
    {
     "name": "stdout",
     "output_type": "stream",
     "text": [
      "Fitting 4 folds for each of 6 candidates, totalling 24 fits\n",
      "[CV] gamma=0.0 .......................................................\n"
     ]
    },
    {
     "name": "stderr",
     "output_type": "stream",
     "text": [
      "[Parallel(n_jobs=1)]: Using backend SequentialBackend with 1 concurrent workers.\n"
     ]
    },
    {
     "name": "stdout",
     "output_type": "stream",
     "text": [
      "[CV] ........................... gamma=0.0, score=0.736, total=  14.8s\n",
      "[CV] gamma=0.0 .......................................................\n"
     ]
    },
    {
     "name": "stderr",
     "output_type": "stream",
     "text": [
      "[Parallel(n_jobs=1)]: Done   1 out of   1 | elapsed:   14.8s remaining:    0.0s\n"
     ]
    },
    {
     "name": "stdout",
     "output_type": "stream",
     "text": [
      "[CV] ........................... gamma=0.0, score=0.734, total=  15.1s\n",
      "[CV] gamma=0.0 .......................................................\n"
     ]
    },
    {
     "name": "stderr",
     "output_type": "stream",
     "text": [
      "[Parallel(n_jobs=1)]: Done   2 out of   2 | elapsed:   29.9s remaining:    0.0s\n"
     ]
    },
    {
     "name": "stdout",
     "output_type": "stream",
     "text": [
      "[CV] ........................... gamma=0.0, score=0.736, total=  15.6s\n",
      "[CV] gamma=0.0 .......................................................\n"
     ]
    },
    {
     "name": "stderr",
     "output_type": "stream",
     "text": [
      "[Parallel(n_jobs=1)]: Done   3 out of   3 | elapsed:   45.5s remaining:    0.0s\n"
     ]
    },
    {
     "name": "stdout",
     "output_type": "stream",
     "text": [
      "[CV] ........................... gamma=0.0, score=0.735, total=  14.6s\n",
      "[CV] gamma=0.1 .......................................................\n"
     ]
    },
    {
     "name": "stderr",
     "output_type": "stream",
     "text": [
      "[Parallel(n_jobs=1)]: Done   4 out of   4 | elapsed:  1.0min remaining:    0.0s\n"
     ]
    },
    {
     "name": "stdout",
     "output_type": "stream",
     "text": [
      "[CV] ........................... gamma=0.1, score=0.736, total=  14.8s\n",
      "[CV] gamma=0.1 .......................................................\n",
      "[CV] ........................... gamma=0.1, score=0.734, total=  14.6s\n",
      "[CV] gamma=0.1 .......................................................\n",
      "[CV] ........................... gamma=0.1, score=0.736, total=  14.3s\n",
      "[CV] gamma=0.1 .......................................................\n",
      "[CV] ........................... gamma=0.1, score=0.735, total=  14.8s\n",
      "[CV] gamma=0.2 .......................................................\n",
      "[CV] ........................... gamma=0.2, score=0.736, total=  14.8s\n",
      "[CV] gamma=0.2 .......................................................\n",
      "[CV] ........................... gamma=0.2, score=0.734, total=  14.7s\n",
      "[CV] gamma=0.2 .......................................................\n",
      "[CV] ........................... gamma=0.2, score=0.736, total=  15.4s\n",
      "[CV] gamma=0.2 .......................................................\n",
      "[CV] ........................... gamma=0.2, score=0.735, total=  15.2s\n",
      "[CV] gamma=0.30000000000000004 .......................................\n",
      "[CV] ........... gamma=0.30000000000000004, score=0.736, total=  14.9s\n",
      "[CV] gamma=0.30000000000000004 .......................................\n",
      "[CV] ........... gamma=0.30000000000000004, score=0.734, total=  14.6s\n",
      "[CV] gamma=0.30000000000000004 .......................................\n",
      "[CV] ........... gamma=0.30000000000000004, score=0.736, total=  14.6s\n",
      "[CV] gamma=0.30000000000000004 .......................................\n",
      "[CV] ........... gamma=0.30000000000000004, score=0.735, total=  14.8s\n",
      "[CV] gamma=0.4 .......................................................\n",
      "[CV] ........................... gamma=0.4, score=0.736, total=  14.6s\n",
      "[CV] gamma=0.4 .......................................................\n",
      "[CV] ........................... gamma=0.4, score=0.734, total=  14.8s\n",
      "[CV] gamma=0.4 .......................................................\n",
      "[CV] ........................... gamma=0.4, score=0.736, total=  15.3s\n",
      "[CV] gamma=0.4 .......................................................\n",
      "[CV] ........................... gamma=0.4, score=0.735, total=  14.8s\n",
      "[CV] gamma=0.5 .......................................................\n",
      "[CV] ........................... gamma=0.5, score=0.736, total=  14.8s\n",
      "[CV] gamma=0.5 .......................................................\n",
      "[CV] ........................... gamma=0.5, score=0.734, total=  14.9s\n",
      "[CV] gamma=0.5 .......................................................\n",
      "[CV] ........................... gamma=0.5, score=0.736, total=  15.2s\n",
      "[CV] gamma=0.5 .......................................................\n",
      "[CV] ........................... gamma=0.5, score=0.735, total=  14.7s\n"
     ]
    },
    {
     "name": "stderr",
     "output_type": "stream",
     "text": [
      "[Parallel(n_jobs=1)]: Done  24 out of  24 | elapsed:  5.9min finished\n"
     ]
    },
    {
     "name": "stdout",
     "output_type": "stream",
     "text": [
      "Best score (AUC):  0.7352955493189595\n",
      "Best params: \n"
     ]
    },
    {
     "data": {
      "text/plain": [
       "{'boosting_type': 'gbdt',\n",
       " 'class_weight': None,\n",
       " 'colsample_bytree': 0.8,\n",
       " 'importance_type': 'split',\n",
       " 'learning_rate': 0.1,\n",
       " 'max_depth': 9,\n",
       " 'min_child_samples': 20,\n",
       " 'min_child_weight': 3,\n",
       " 'min_split_gain': 0.0,\n",
       " 'n_estimators': 1000,\n",
       " 'n_jobs': -1,\n",
       " 'num_leaves': 31,\n",
       " 'objective': None,\n",
       " 'random_state': None,\n",
       " 'reg_alpha': 0.0,\n",
       " 'reg_lambda': 1.0,\n",
       " 'silent': True,\n",
       " 'subsample': 0.8,\n",
       " 'subsample_for_bin': 200000,\n",
       " 'subsample_freq': 0,\n",
       " 'gamma': 0.0,\n",
       " 'scale_pos_weight': 0.27826383365526647}"
      ]
     },
     "execution_count": 17,
     "metadata": {},
     "output_type": "execute_result"
    }
   ],
   "source": [
    "param_grid = {\n",
    "    'gamma': [0.1*i for i in range(6)]\n",
    "}\n",
    "\n",
    "model2 = lgb.LGBMClassifier(**best_params)\n",
    "gs = GridSearchCV(model2, param_grid, scoring='roc_auc', cv=cv, verbose=5)\n",
    "\n",
    "gs.fit(train, y_train)\n",
    "best_params = gs.best_estimator_.get_params()\n",
    "print('Best score (AUC): ', gs.best_score_)\n",
    "print('Best params: ')\n",
    "best_params"
   ]
  },
  {
   "cell_type": "code",
   "execution_count": 18,
   "metadata": {},
   "outputs": [
    {
     "name": "stdout",
     "output_type": "stream",
     "text": [
      "Fitting 4 folds for each of 36 candidates, totalling 144 fits\n",
      "[CV] colsample_bytree=0.5, subsample=0.5 .............................\n"
     ]
    },
    {
     "name": "stderr",
     "output_type": "stream",
     "text": [
      "[Parallel(n_jobs=1)]: Using backend SequentialBackend with 1 concurrent workers.\n"
     ]
    },
    {
     "name": "stdout",
     "output_type": "stream",
     "text": [
      "[CV] . colsample_bytree=0.5, subsample=0.5, score=0.736, total=  13.9s\n",
      "[CV] colsample_bytree=0.5, subsample=0.5 .............................\n"
     ]
    },
    {
     "name": "stderr",
     "output_type": "stream",
     "text": [
      "[Parallel(n_jobs=1)]: Done   1 out of   1 | elapsed:   13.9s remaining:    0.0s\n"
     ]
    },
    {
     "name": "stdout",
     "output_type": "stream",
     "text": [
      "[CV] . colsample_bytree=0.5, subsample=0.5, score=0.737, total=  13.9s\n",
      "[CV] colsample_bytree=0.5, subsample=0.5 .............................\n"
     ]
    },
    {
     "name": "stderr",
     "output_type": "stream",
     "text": [
      "[Parallel(n_jobs=1)]: Done   2 out of   2 | elapsed:   27.8s remaining:    0.0s\n"
     ]
    },
    {
     "name": "stdout",
     "output_type": "stream",
     "text": [
      "[CV] . colsample_bytree=0.5, subsample=0.5, score=0.737, total=  13.7s\n",
      "[CV] colsample_bytree=0.5, subsample=0.5 .............................\n"
     ]
    },
    {
     "name": "stderr",
     "output_type": "stream",
     "text": [
      "[Parallel(n_jobs=1)]: Done   3 out of   3 | elapsed:   41.4s remaining:    0.0s\n"
     ]
    },
    {
     "name": "stdout",
     "output_type": "stream",
     "text": [
      "[CV] . colsample_bytree=0.5, subsample=0.5, score=0.730, total=  13.5s\n",
      "[CV] colsample_bytree=0.5, subsample=0.6 .............................\n"
     ]
    },
    {
     "name": "stderr",
     "output_type": "stream",
     "text": [
      "[Parallel(n_jobs=1)]: Done   4 out of   4 | elapsed:   55.0s remaining:    0.0s\n"
     ]
    },
    {
     "name": "stdout",
     "output_type": "stream",
     "text": [
      "[CV] . colsample_bytree=0.5, subsample=0.6, score=0.736, total=  13.6s\n",
      "[CV] colsample_bytree=0.5, subsample=0.6 .............................\n",
      "[CV] . colsample_bytree=0.5, subsample=0.6, score=0.737, total=  13.3s\n",
      "[CV] colsample_bytree=0.5, subsample=0.6 .............................\n",
      "[CV] . colsample_bytree=0.5, subsample=0.6, score=0.737, total=  13.6s\n",
      "[CV] colsample_bytree=0.5, subsample=0.6 .............................\n",
      "[CV] . colsample_bytree=0.5, subsample=0.6, score=0.730, total=  13.6s\n",
      "[CV] colsample_bytree=0.5, subsample=0.7 .............................\n",
      "[CV] . colsample_bytree=0.5, subsample=0.7, score=0.736, total=  13.7s\n",
      "[CV] colsample_bytree=0.5, subsample=0.7 .............................\n",
      "[CV] . colsample_bytree=0.5, subsample=0.7, score=0.737, total=  15.9s\n",
      "[CV] colsample_bytree=0.5, subsample=0.7 .............................\n",
      "[CV] . colsample_bytree=0.5, subsample=0.7, score=0.737, total=  21.1s\n",
      "[CV] colsample_bytree=0.5, subsample=0.7 .............................\n",
      "[CV] . colsample_bytree=0.5, subsample=0.7, score=0.730, total=  16.2s\n",
      "[CV] colsample_bytree=0.5, subsample=0.8 .............................\n",
      "[CV] . colsample_bytree=0.5, subsample=0.8, score=0.736, total=  16.2s\n",
      "[CV] colsample_bytree=0.5, subsample=0.8 .............................\n",
      "[CV] . colsample_bytree=0.5, subsample=0.8, score=0.737, total=  15.9s\n",
      "[CV] colsample_bytree=0.5, subsample=0.8 .............................\n",
      "[CV] . colsample_bytree=0.5, subsample=0.8, score=0.737, total=  16.8s\n",
      "[CV] colsample_bytree=0.5, subsample=0.8 .............................\n",
      "[CV] . colsample_bytree=0.5, subsample=0.8, score=0.730, total=  16.8s\n",
      "[CV] colsample_bytree=0.5, subsample=0.9 .............................\n",
      "[CV] . colsample_bytree=0.5, subsample=0.9, score=0.736, total=  16.7s\n",
      "[CV] colsample_bytree=0.5, subsample=0.9 .............................\n",
      "[CV] . colsample_bytree=0.5, subsample=0.9, score=0.737, total=  17.1s\n",
      "[CV] colsample_bytree=0.5, subsample=0.9 .............................\n",
      "[CV] . colsample_bytree=0.5, subsample=0.9, score=0.737, total=  17.6s\n",
      "[CV] colsample_bytree=0.5, subsample=0.9 .............................\n",
      "[CV] . colsample_bytree=0.5, subsample=0.9, score=0.730, total=  19.6s\n",
      "[CV] colsample_bytree=0.5, subsample=1.0 .............................\n",
      "[CV] . colsample_bytree=0.5, subsample=1.0, score=0.736, total=  18.4s\n",
      "[CV] colsample_bytree=0.5, subsample=1.0 .............................\n",
      "[CV] . colsample_bytree=0.5, subsample=1.0, score=0.737, total=  28.1s\n",
      "[CV] colsample_bytree=0.5, subsample=1.0 .............................\n",
      "[CV] . colsample_bytree=0.5, subsample=1.0, score=0.737, total=  31.5s\n",
      "[CV] colsample_bytree=0.5, subsample=1.0 .............................\n",
      "[CV] . colsample_bytree=0.5, subsample=1.0, score=0.730, total=  18.5s\n",
      "[CV] colsample_bytree=0.6, subsample=0.5 .............................\n",
      "[CV] . colsample_bytree=0.6, subsample=0.5, score=0.736, total=  19.9s\n",
      "[CV] colsample_bytree=0.6, subsample=0.5 .............................\n",
      "[CV] . colsample_bytree=0.6, subsample=0.5, score=0.738, total=  21.4s\n",
      "[CV] colsample_bytree=0.6, subsample=0.5 .............................\n",
      "[CV] . colsample_bytree=0.6, subsample=0.5, score=0.736, total=  19.0s\n",
      "[CV] colsample_bytree=0.6, subsample=0.5 .............................\n",
      "[CV] . colsample_bytree=0.6, subsample=0.5, score=0.731, total=  17.7s\n",
      "[CV] colsample_bytree=0.6, subsample=0.6 .............................\n",
      "[CV] . colsample_bytree=0.6, subsample=0.6, score=0.736, total=  18.3s\n",
      "[CV] colsample_bytree=0.6, subsample=0.6 .............................\n",
      "[CV] . colsample_bytree=0.6, subsample=0.6, score=0.738, total=  27.9s\n",
      "[CV] colsample_bytree=0.6, subsample=0.6 .............................\n",
      "[CV] . colsample_bytree=0.6, subsample=0.6, score=0.736, total=  23.0s\n",
      "[CV] colsample_bytree=0.6, subsample=0.6 .............................\n",
      "[CV] . colsample_bytree=0.6, subsample=0.6, score=0.731, total=  18.4s\n",
      "[CV] colsample_bytree=0.6, subsample=0.7 .............................\n",
      "[CV] . colsample_bytree=0.6, subsample=0.7, score=0.736, total=  17.8s\n",
      "[CV] colsample_bytree=0.6, subsample=0.7 .............................\n",
      "[CV] . colsample_bytree=0.6, subsample=0.7, score=0.738, total=  18.9s\n",
      "[CV] colsample_bytree=0.6, subsample=0.7 .............................\n",
      "[CV] . colsample_bytree=0.6, subsample=0.7, score=0.736, total=  19.1s\n",
      "[CV] colsample_bytree=0.6, subsample=0.7 .............................\n",
      "[CV] . colsample_bytree=0.6, subsample=0.7, score=0.731, total=  21.6s\n",
      "[CV] colsample_bytree=0.6, subsample=0.8 .............................\n",
      "[CV] . colsample_bytree=0.6, subsample=0.8, score=0.736, total=  25.4s\n",
      "[CV] colsample_bytree=0.6, subsample=0.8 .............................\n",
      "[CV] . colsample_bytree=0.6, subsample=0.8, score=0.738, total=  20.8s\n",
      "[CV] colsample_bytree=0.6, subsample=0.8 .............................\n",
      "[CV] . colsample_bytree=0.6, subsample=0.8, score=0.736, total=  29.8s\n",
      "[CV] colsample_bytree=0.6, subsample=0.8 .............................\n",
      "[CV] . colsample_bytree=0.6, subsample=0.8, score=0.731, total=  23.3s\n",
      "[CV] colsample_bytree=0.6, subsample=0.9 .............................\n",
      "[CV] . colsample_bytree=0.6, subsample=0.9, score=0.736, total=  30.5s\n",
      "[CV] colsample_bytree=0.6, subsample=0.9 .............................\n",
      "[CV] . colsample_bytree=0.6, subsample=0.9, score=0.738, total=  25.9s\n",
      "[CV] colsample_bytree=0.6, subsample=0.9 .............................\n",
      "[CV] . colsample_bytree=0.6, subsample=0.9, score=0.736, total=  18.0s\n",
      "[CV] colsample_bytree=0.6, subsample=0.9 .............................\n",
      "[CV] . colsample_bytree=0.6, subsample=0.9, score=0.731, total=  18.2s\n",
      "[CV] colsample_bytree=0.6, subsample=1.0 .............................\n",
      "[CV] . colsample_bytree=0.6, subsample=1.0, score=0.736, total=  15.8s\n",
      "[CV] colsample_bytree=0.6, subsample=1.0 .............................\n",
      "[CV] . colsample_bytree=0.6, subsample=1.0, score=0.738, total=  22.7s\n",
      "[CV] colsample_bytree=0.6, subsample=1.0 .............................\n",
      "[CV] . colsample_bytree=0.6, subsample=1.0, score=0.736, total=  21.3s\n",
      "[CV] colsample_bytree=0.6, subsample=1.0 .............................\n",
      "[CV] . colsample_bytree=0.6, subsample=1.0, score=0.731, total=  17.5s\n",
      "[CV] colsample_bytree=0.7, subsample=0.5 .............................\n",
      "[CV] . colsample_bytree=0.7, subsample=0.5, score=0.736, total=  19.0s\n",
      "[CV] colsample_bytree=0.7, subsample=0.5 .............................\n",
      "[CV] . colsample_bytree=0.7, subsample=0.5, score=0.739, total=  18.6s\n",
      "[CV] colsample_bytree=0.7, subsample=0.5 .............................\n",
      "[CV] . colsample_bytree=0.7, subsample=0.5, score=0.739, total=  18.0s\n",
      "[CV] colsample_bytree=0.7, subsample=0.5 .............................\n",
      "[CV] . colsample_bytree=0.7, subsample=0.5, score=0.731, total=  19.0s\n",
      "[CV] colsample_bytree=0.7, subsample=0.6 .............................\n",
      "[CV] . colsample_bytree=0.7, subsample=0.6, score=0.736, total=  18.1s\n",
      "[CV] colsample_bytree=0.7, subsample=0.6 .............................\n",
      "[CV] . colsample_bytree=0.7, subsample=0.6, score=0.739, total=  18.3s\n",
      "[CV] colsample_bytree=0.7, subsample=0.6 .............................\n",
      "[CV] . colsample_bytree=0.7, subsample=0.6, score=0.739, total=  18.2s\n",
      "[CV] colsample_bytree=0.7, subsample=0.6 .............................\n",
      "[CV] . colsample_bytree=0.7, subsample=0.6, score=0.731, total=  18.7s\n",
      "[CV] colsample_bytree=0.7, subsample=0.7 .............................\n",
      "[CV] . colsample_bytree=0.7, subsample=0.7, score=0.736, total=  19.3s\n",
      "[CV] colsample_bytree=0.7, subsample=0.7 .............................\n",
      "[CV] . colsample_bytree=0.7, subsample=0.7, score=0.739, total=  20.9s\n",
      "[CV] colsample_bytree=0.7, subsample=0.7 .............................\n",
      "[CV] . colsample_bytree=0.7, subsample=0.7, score=0.739, total=  18.2s\n",
      "[CV] colsample_bytree=0.7, subsample=0.7 .............................\n",
      "[CV] . colsample_bytree=0.7, subsample=0.7, score=0.731, total=  18.6s\n",
      "[CV] colsample_bytree=0.7, subsample=0.8 .............................\n",
      "[CV] . colsample_bytree=0.7, subsample=0.8, score=0.736, total=  18.2s\n",
      "[CV] colsample_bytree=0.7, subsample=0.8 .............................\n",
      "[CV] . colsample_bytree=0.7, subsample=0.8, score=0.739, total=  17.9s\n",
      "[CV] colsample_bytree=0.7, subsample=0.8 .............................\n"
     ]
    },
    {
     "name": "stdout",
     "output_type": "stream",
     "text": [
      "[CV] . colsample_bytree=0.7, subsample=0.8, score=0.739, total=  17.8s\n",
      "[CV] colsample_bytree=0.7, subsample=0.8 .............................\n",
      "[CV] . colsample_bytree=0.7, subsample=0.8, score=0.731, total=  14.1s\n",
      "[CV] colsample_bytree=0.7, subsample=0.9 .............................\n",
      "[CV] . colsample_bytree=0.7, subsample=0.9, score=0.736, total=  14.6s\n",
      "[CV] colsample_bytree=0.7, subsample=0.9 .............................\n",
      "[CV] . colsample_bytree=0.7, subsample=0.9, score=0.739, total=  14.0s\n",
      "[CV] colsample_bytree=0.7, subsample=0.9 .............................\n",
      "[CV] . colsample_bytree=0.7, subsample=0.9, score=0.739, total=  17.2s\n",
      "[CV] colsample_bytree=0.7, subsample=0.9 .............................\n",
      "[CV] . colsample_bytree=0.7, subsample=0.9, score=0.731, total=  15.2s\n",
      "[CV] colsample_bytree=0.7, subsample=1.0 .............................\n",
      "[CV] . colsample_bytree=0.7, subsample=1.0, score=0.736, total=  19.4s\n",
      "[CV] colsample_bytree=0.7, subsample=1.0 .............................\n",
      "[CV] . colsample_bytree=0.7, subsample=1.0, score=0.739, total=  15.1s\n",
      "[CV] colsample_bytree=0.7, subsample=1.0 .............................\n",
      "[CV] . colsample_bytree=0.7, subsample=1.0, score=0.739, total=  18.6s\n",
      "[CV] colsample_bytree=0.7, subsample=1.0 .............................\n",
      "[CV] . colsample_bytree=0.7, subsample=1.0, score=0.731, total=  16.0s\n",
      "[CV] colsample_bytree=0.8, subsample=0.5 .............................\n",
      "[CV] . colsample_bytree=0.8, subsample=0.5, score=0.736, total=  16.3s\n",
      "[CV] colsample_bytree=0.8, subsample=0.5 .............................\n",
      "[CV] . colsample_bytree=0.8, subsample=0.5, score=0.740, total=  20.8s\n",
      "[CV] colsample_bytree=0.8, subsample=0.5 .............................\n",
      "[CV] . colsample_bytree=0.8, subsample=0.5, score=0.739, total=  14.0s\n",
      "[CV] colsample_bytree=0.8, subsample=0.5 .............................\n",
      "[CV] . colsample_bytree=0.8, subsample=0.5, score=0.731, total=  17.3s\n",
      "[CV] colsample_bytree=0.8, subsample=0.6 .............................\n",
      "[CV] . colsample_bytree=0.8, subsample=0.6, score=0.736, total=  32.0s\n",
      "[CV] colsample_bytree=0.8, subsample=0.6 .............................\n",
      "[CV] . colsample_bytree=0.8, subsample=0.6, score=0.740, total=  23.5s\n",
      "[CV] colsample_bytree=0.8, subsample=0.6 .............................\n",
      "[CV] . colsample_bytree=0.8, subsample=0.6, score=0.739, total=  14.2s\n",
      "[CV] colsample_bytree=0.8, subsample=0.6 .............................\n",
      "[CV] . colsample_bytree=0.8, subsample=0.6, score=0.731, total=  14.3s\n",
      "[CV] colsample_bytree=0.8, subsample=0.7 .............................\n",
      "[CV] . colsample_bytree=0.8, subsample=0.7, score=0.736, total=  14.3s\n",
      "[CV] colsample_bytree=0.8, subsample=0.7 .............................\n",
      "[CV] . colsample_bytree=0.8, subsample=0.7, score=0.740, total=  19.0s\n",
      "[CV] colsample_bytree=0.8, subsample=0.7 .............................\n",
      "[CV] . colsample_bytree=0.8, subsample=0.7, score=0.739, total=  18.6s\n",
      "[CV] colsample_bytree=0.8, subsample=0.7 .............................\n",
      "[CV] . colsample_bytree=0.8, subsample=0.7, score=0.731, total=  18.7s\n",
      "[CV] colsample_bytree=0.8, subsample=0.8 .............................\n",
      "[CV] . colsample_bytree=0.8, subsample=0.8, score=0.736, total=  17.2s\n",
      "[CV] colsample_bytree=0.8, subsample=0.8 .............................\n",
      "[CV] . colsample_bytree=0.8, subsample=0.8, score=0.740, total=  25.0s\n",
      "[CV] colsample_bytree=0.8, subsample=0.8 .............................\n",
      "[CV] . colsample_bytree=0.8, subsample=0.8, score=0.739, total=  46.2s\n",
      "[CV] colsample_bytree=0.8, subsample=0.8 .............................\n",
      "[CV] . colsample_bytree=0.8, subsample=0.8, score=0.731, total=  47.5s\n",
      "[CV] colsample_bytree=0.8, subsample=0.9 .............................\n",
      "[CV] . colsample_bytree=0.8, subsample=0.9, score=0.736, total=  33.7s\n",
      "[CV] colsample_bytree=0.8, subsample=0.9 .............................\n",
      "[CV] . colsample_bytree=0.8, subsample=0.9, score=0.740, total=  25.1s\n",
      "[CV] colsample_bytree=0.8, subsample=0.9 .............................\n",
      "[CV] . colsample_bytree=0.8, subsample=0.9, score=0.739, total=  21.5s\n",
      "[CV] colsample_bytree=0.8, subsample=0.9 .............................\n",
      "[CV] . colsample_bytree=0.8, subsample=0.9, score=0.731, total=  18.4s\n",
      "[CV] colsample_bytree=0.8, subsample=1.0 .............................\n",
      "[CV] . colsample_bytree=0.8, subsample=1.0, score=0.736, total=  20.1s\n",
      "[CV] colsample_bytree=0.8, subsample=1.0 .............................\n",
      "[CV] . colsample_bytree=0.8, subsample=1.0, score=0.740, total=  17.4s\n",
      "[CV] colsample_bytree=0.8, subsample=1.0 .............................\n",
      "[CV] . colsample_bytree=0.8, subsample=1.0, score=0.739, total=  17.6s\n",
      "[CV] colsample_bytree=0.8, subsample=1.0 .............................\n",
      "[CV] . colsample_bytree=0.8, subsample=1.0, score=0.731, total=  19.9s\n",
      "[CV] colsample_bytree=0.9, subsample=0.5 .............................\n",
      "[CV] . colsample_bytree=0.9, subsample=0.5, score=0.735, total=  26.2s\n",
      "[CV] colsample_bytree=0.9, subsample=0.5 .............................\n",
      "[CV] . colsample_bytree=0.9, subsample=0.5, score=0.737, total=  46.8s\n",
      "[CV] colsample_bytree=0.9, subsample=0.5 .............................\n",
      "[CV] . colsample_bytree=0.9, subsample=0.5, score=0.736, total=  28.3s\n",
      "[CV] colsample_bytree=0.9, subsample=0.5 .............................\n",
      "[CV] . colsample_bytree=0.9, subsample=0.5, score=0.730, total=  18.6s\n",
      "[CV] colsample_bytree=0.9, subsample=0.6 .............................\n",
      "[CV] . colsample_bytree=0.9, subsample=0.6, score=0.735, total=  30.0s\n",
      "[CV] colsample_bytree=0.9, subsample=0.6 .............................\n",
      "[CV] . colsample_bytree=0.9, subsample=0.6, score=0.737, total=  26.0s\n",
      "[CV] colsample_bytree=0.9, subsample=0.6 .............................\n",
      "[CV] . colsample_bytree=0.9, subsample=0.6, score=0.736, total=  22.9s\n",
      "[CV] colsample_bytree=0.9, subsample=0.6 .............................\n",
      "[CV] . colsample_bytree=0.9, subsample=0.6, score=0.730, total=  20.3s\n",
      "[CV] colsample_bytree=0.9, subsample=0.7 .............................\n",
      "[CV] . colsample_bytree=0.9, subsample=0.7, score=0.735, total=  24.9s\n",
      "[CV] colsample_bytree=0.9, subsample=0.7 .............................\n",
      "[CV] . colsample_bytree=0.9, subsample=0.7, score=0.737, total=  24.0s\n",
      "[CV] colsample_bytree=0.9, subsample=0.7 .............................\n",
      "[CV] . colsample_bytree=0.9, subsample=0.7, score=0.736, total=  38.4s\n",
      "[CV] colsample_bytree=0.9, subsample=0.7 .............................\n",
      "[CV] . colsample_bytree=0.9, subsample=0.7, score=0.730, total=  22.2s\n",
      "[CV] colsample_bytree=0.9, subsample=0.8 .............................\n",
      "[CV] . colsample_bytree=0.9, subsample=0.8, score=0.735, total=  25.6s\n",
      "[CV] colsample_bytree=0.9, subsample=0.8 .............................\n",
      "[CV] . colsample_bytree=0.9, subsample=0.8, score=0.737, total=  22.6s\n",
      "[CV] colsample_bytree=0.9, subsample=0.8 .............................\n",
      "[CV] . colsample_bytree=0.9, subsample=0.8, score=0.736, total=  23.7s\n",
      "[CV] colsample_bytree=0.9, subsample=0.8 .............................\n",
      "[CV] . colsample_bytree=0.9, subsample=0.8, score=0.730, total=  24.4s\n",
      "[CV] colsample_bytree=0.9, subsample=0.9 .............................\n",
      "[CV] . colsample_bytree=0.9, subsample=0.9, score=0.735, total=  24.0s\n",
      "[CV] colsample_bytree=0.9, subsample=0.9 .............................\n",
      "[CV] . colsample_bytree=0.9, subsample=0.9, score=0.737, total=  26.9s\n",
      "[CV] colsample_bytree=0.9, subsample=0.9 .............................\n",
      "[CV] . colsample_bytree=0.9, subsample=0.9, score=0.736, total=  29.6s\n",
      "[CV] colsample_bytree=0.9, subsample=0.9 .............................\n",
      "[CV] . colsample_bytree=0.9, subsample=0.9, score=0.730, total=  21.4s\n",
      "[CV] colsample_bytree=0.9, subsample=1.0 .............................\n",
      "[CV] . colsample_bytree=0.9, subsample=1.0, score=0.735, total=  21.0s\n",
      "[CV] colsample_bytree=0.9, subsample=1.0 .............................\n",
      "[CV] . colsample_bytree=0.9, subsample=1.0, score=0.737, total=  20.6s\n",
      "[CV] colsample_bytree=0.9, subsample=1.0 .............................\n",
      "[CV] . colsample_bytree=0.9, subsample=1.0, score=0.736, total=  38.9s\n",
      "[CV] colsample_bytree=0.9, subsample=1.0 .............................\n",
      "[CV] . colsample_bytree=0.9, subsample=1.0, score=0.730, total=  29.6s\n",
      "[CV] colsample_bytree=1.0, subsample=0.5 .............................\n"
     ]
    },
    {
     "name": "stdout",
     "output_type": "stream",
     "text": [
      "[CV] . colsample_bytree=1.0, subsample=0.5, score=0.736, total=  30.3s\n",
      "[CV] colsample_bytree=1.0, subsample=0.5 .............................\n",
      "[CV] . colsample_bytree=1.0, subsample=0.5, score=0.738, total=  49.1s\n",
      "[CV] colsample_bytree=1.0, subsample=0.5 .............................\n",
      "[CV] . colsample_bytree=1.0, subsample=0.5, score=0.737, total=  23.3s\n",
      "[CV] colsample_bytree=1.0, subsample=0.5 .............................\n",
      "[CV] . colsample_bytree=1.0, subsample=0.5, score=0.731, total=  35.1s\n",
      "[CV] colsample_bytree=1.0, subsample=0.6 .............................\n",
      "[CV] . colsample_bytree=1.0, subsample=0.6, score=0.736, total=  28.7s\n",
      "[CV] colsample_bytree=1.0, subsample=0.6 .............................\n",
      "[CV] . colsample_bytree=1.0, subsample=0.6, score=0.738, total=  24.8s\n",
      "[CV] colsample_bytree=1.0, subsample=0.6 .............................\n",
      "[CV] . colsample_bytree=1.0, subsample=0.6, score=0.737, total=  43.0s\n",
      "[CV] colsample_bytree=1.0, subsample=0.6 .............................\n",
      "[CV] . colsample_bytree=1.0, subsample=0.6, score=0.731, total=  53.7s\n",
      "[CV] colsample_bytree=1.0, subsample=0.7 .............................\n",
      "[CV] . colsample_bytree=1.0, subsample=0.7, score=0.736, total=  54.5s\n",
      "[CV] colsample_bytree=1.0, subsample=0.7 .............................\n",
      "[CV] . colsample_bytree=1.0, subsample=0.7, score=0.738, total=  45.1s\n",
      "[CV] colsample_bytree=1.0, subsample=0.7 .............................\n",
      "[CV] . colsample_bytree=1.0, subsample=0.7, score=0.737, total=  58.6s\n",
      "[CV] colsample_bytree=1.0, subsample=0.7 .............................\n",
      "[CV] . colsample_bytree=1.0, subsample=0.7, score=0.731, total= 1.1min\n",
      "[CV] colsample_bytree=1.0, subsample=0.8 .............................\n",
      "[CV] . colsample_bytree=1.0, subsample=0.8, score=0.736, total= 1.3min\n",
      "[CV] colsample_bytree=1.0, subsample=0.8 .............................\n",
      "[CV] . colsample_bytree=1.0, subsample=0.8, score=0.738, total= 1.2min\n",
      "[CV] colsample_bytree=1.0, subsample=0.8 .............................\n",
      "[CV] . colsample_bytree=1.0, subsample=0.8, score=0.737, total=  37.3s\n",
      "[CV] colsample_bytree=1.0, subsample=0.8 .............................\n",
      "[CV] . colsample_bytree=1.0, subsample=0.8, score=0.731, total=  25.6s\n",
      "[CV] colsample_bytree=1.0, subsample=0.9 .............................\n",
      "[CV] . colsample_bytree=1.0, subsample=0.9, score=0.736, total=  29.6s\n",
      "[CV] colsample_bytree=1.0, subsample=0.9 .............................\n",
      "[CV] . colsample_bytree=1.0, subsample=0.9, score=0.738, total=  29.0s\n",
      "[CV] colsample_bytree=1.0, subsample=0.9 .............................\n",
      "[CV] . colsample_bytree=1.0, subsample=0.9, score=0.737, total=  22.6s\n",
      "[CV] colsample_bytree=1.0, subsample=0.9 .............................\n",
      "[CV] . colsample_bytree=1.0, subsample=0.9, score=0.731, total=  20.6s\n",
      "[CV] colsample_bytree=1.0, subsample=1.0 .............................\n",
      "[CV] . colsample_bytree=1.0, subsample=1.0, score=0.736, total=  19.6s\n",
      "[CV] colsample_bytree=1.0, subsample=1.0 .............................\n",
      "[CV] . colsample_bytree=1.0, subsample=1.0, score=0.738, total=  19.3s\n",
      "[CV] colsample_bytree=1.0, subsample=1.0 .............................\n",
      "[CV] . colsample_bytree=1.0, subsample=1.0, score=0.737, total=  20.3s\n",
      "[CV] colsample_bytree=1.0, subsample=1.0 .............................\n",
      "[CV] . colsample_bytree=1.0, subsample=1.0, score=0.731, total=  19.9s\n"
     ]
    },
    {
     "name": "stderr",
     "output_type": "stream",
     "text": [
      "[Parallel(n_jobs=1)]: Done 144 out of 144 | elapsed: 57.0min finished\n"
     ]
    },
    {
     "name": "stdout",
     "output_type": "stream",
     "text": [
      "Best score (AUC):  0.7363844189502521\n",
      "Best params: \n"
     ]
    },
    {
     "data": {
      "text/plain": [
       "{'boosting_type': 'gbdt',\n",
       " 'class_weight': None,\n",
       " 'colsample_bytree': 0.8,\n",
       " 'importance_type': 'split',\n",
       " 'learning_rate': 0.1,\n",
       " 'max_depth': 9,\n",
       " 'min_child_samples': 20,\n",
       " 'min_child_weight': 3,\n",
       " 'min_split_gain': 0.0,\n",
       " 'n_estimators': 1000,\n",
       " 'n_jobs': -1,\n",
       " 'num_leaves': 31,\n",
       " 'objective': None,\n",
       " 'random_state': None,\n",
       " 'reg_alpha': 0.0,\n",
       " 'reg_lambda': 1.0,\n",
       " 'silent': True,\n",
       " 'subsample': 0.5,\n",
       " 'subsample_for_bin': 200000,\n",
       " 'subsample_freq': 0,\n",
       " 'gamma': 0.0,\n",
       " 'scale_pos_weight': 0.27826383365526647}"
      ]
     },
     "execution_count": 18,
     "metadata": {},
     "output_type": "execute_result"
    }
   ],
   "source": [
    "param_grid = {\n",
    "    'subsample': [0.5 + 0.1*i for i in range(6)],\n",
    "    'colsample_bytree': [0.5 + 0.1*i for i in range(6)]\n",
    "}\n",
    "\n",
    "model2 = lgb.LGBMClassifier(**best_params)\n",
    "gs = GridSearchCV(model2, param_grid, scoring='roc_auc', cv=cv, verbose=5)\n",
    "\n",
    "gs.fit(train, y_train)\n",
    "best_params = gs.best_estimator_.get_params()\n",
    "print('Best score (AUC): ', gs.best_score_)\n",
    "print('Best params: ')\n",
    "best_params"
   ]
  },
  {
   "cell_type": "code",
   "execution_count": 19,
   "metadata": {},
   "outputs": [
    {
     "name": "stdout",
     "output_type": "stream",
     "text": [
      "Fitting 4 folds for each of 25 candidates, totalling 100 fits\n",
      "[CV] reg_alpha=1e-05, reg_lambda=1e-05 ...............................\n"
     ]
    },
    {
     "name": "stderr",
     "output_type": "stream",
     "text": [
      "[Parallel(n_jobs=1)]: Using backend SequentialBackend with 1 concurrent workers.\n"
     ]
    },
    {
     "name": "stdout",
     "output_type": "stream",
     "text": [
      "[CV] ... reg_alpha=1e-05, reg_lambda=1e-05, score=0.741, total=  21.7s\n",
      "[CV] reg_alpha=1e-05, reg_lambda=1e-05 ...............................\n"
     ]
    },
    {
     "name": "stderr",
     "output_type": "stream",
     "text": [
      "[Parallel(n_jobs=1)]: Done   1 out of   1 | elapsed:   21.7s remaining:    0.0s\n"
     ]
    },
    {
     "name": "stdout",
     "output_type": "stream",
     "text": [
      "[CV] ... reg_alpha=1e-05, reg_lambda=1e-05, score=0.737, total=  17.9s\n",
      "[CV] reg_alpha=1e-05, reg_lambda=1e-05 ...............................\n"
     ]
    },
    {
     "name": "stderr",
     "output_type": "stream",
     "text": [
      "[Parallel(n_jobs=1)]: Done   2 out of   2 | elapsed:   39.6s remaining:    0.0s\n"
     ]
    },
    {
     "name": "stdout",
     "output_type": "stream",
     "text": [
      "[CV] ... reg_alpha=1e-05, reg_lambda=1e-05, score=0.736, total=  19.3s\n",
      "[CV] reg_alpha=1e-05, reg_lambda=1e-05 ...............................\n"
     ]
    },
    {
     "name": "stderr",
     "output_type": "stream",
     "text": [
      "[Parallel(n_jobs=1)]: Done   3 out of   3 | elapsed:   58.9s remaining:    0.0s\n"
     ]
    },
    {
     "name": "stdout",
     "output_type": "stream",
     "text": [
      "[CV] ... reg_alpha=1e-05, reg_lambda=1e-05, score=0.729, total=  18.8s\n",
      "[CV] reg_alpha=1e-05, reg_lambda=0.01 ................................\n"
     ]
    },
    {
     "name": "stderr",
     "output_type": "stream",
     "text": [
      "[Parallel(n_jobs=1)]: Done   4 out of   4 | elapsed:  1.3min remaining:    0.0s\n"
     ]
    },
    {
     "name": "stdout",
     "output_type": "stream",
     "text": [
      "[CV] .... reg_alpha=1e-05, reg_lambda=0.01, score=0.741, total=  17.9s\n",
      "[CV] reg_alpha=1e-05, reg_lambda=0.01 ................................\n",
      "[CV] .... reg_alpha=1e-05, reg_lambda=0.01, score=0.736, total=  18.1s\n",
      "[CV] reg_alpha=1e-05, reg_lambda=0.01 ................................\n",
      "[CV] .... reg_alpha=1e-05, reg_lambda=0.01, score=0.736, total=  18.8s\n",
      "[CV] reg_alpha=1e-05, reg_lambda=0.01 ................................\n",
      "[CV] .... reg_alpha=1e-05, reg_lambda=0.01, score=0.731, total=  18.8s\n",
      "[CV] reg_alpha=1e-05, reg_lambda=0.1 .................................\n",
      "[CV] ..... reg_alpha=1e-05, reg_lambda=0.1, score=0.742, total=  28.9s\n",
      "[CV] reg_alpha=1e-05, reg_lambda=0.1 .................................\n",
      "[CV] ..... reg_alpha=1e-05, reg_lambda=0.1, score=0.736, total=  30.9s\n",
      "[CV] reg_alpha=1e-05, reg_lambda=0.1 .................................\n",
      "[CV] ..... reg_alpha=1e-05, reg_lambda=0.1, score=0.737, total=  30.4s\n",
      "[CV] reg_alpha=1e-05, reg_lambda=0.1 .................................\n",
      "[CV] ..... reg_alpha=1e-05, reg_lambda=0.1, score=0.730, total=  28.8s\n",
      "[CV] reg_alpha=1e-05, reg_lambda=1 ...................................\n",
      "[CV] ....... reg_alpha=1e-05, reg_lambda=1, score=0.741, total=  23.9s\n",
      "[CV] reg_alpha=1e-05, reg_lambda=1 ...................................\n",
      "[CV] ....... reg_alpha=1e-05, reg_lambda=1, score=0.735, total=  22.2s\n",
      "[CV] reg_alpha=1e-05, reg_lambda=1 ...................................\n",
      "[CV] ....... reg_alpha=1e-05, reg_lambda=1, score=0.735, total=  42.3s\n",
      "[CV] reg_alpha=1e-05, reg_lambda=1 ...................................\n",
      "[CV] ....... reg_alpha=1e-05, reg_lambda=1, score=0.730, total=  47.8s\n",
      "[CV] reg_alpha=1e-05, reg_lambda=100 .................................\n",
      "[CV] ..... reg_alpha=1e-05, reg_lambda=100, score=0.739, total=  23.7s\n",
      "[CV] reg_alpha=1e-05, reg_lambda=100 .................................\n",
      "[CV] ..... reg_alpha=1e-05, reg_lambda=100, score=0.732, total=  35.2s\n",
      "[CV] reg_alpha=1e-05, reg_lambda=100 .................................\n",
      "[CV] ..... reg_alpha=1e-05, reg_lambda=100, score=0.735, total=  33.7s\n",
      "[CV] reg_alpha=1e-05, reg_lambda=100 .................................\n",
      "[CV] ..... reg_alpha=1e-05, reg_lambda=100, score=0.732, total=  34.4s\n",
      "[CV] reg_alpha=0.01, reg_lambda=1e-05 ................................\n",
      "[CV] .... reg_alpha=0.01, reg_lambda=1e-05, score=0.742, total=  21.1s\n",
      "[CV] reg_alpha=0.01, reg_lambda=1e-05 ................................\n",
      "[CV] .... reg_alpha=0.01, reg_lambda=1e-05, score=0.736, total=  23.0s\n",
      "[CV] reg_alpha=0.01, reg_lambda=1e-05 ................................\n",
      "[CV] .... reg_alpha=0.01, reg_lambda=1e-05, score=0.734, total=  28.3s\n",
      "[CV] reg_alpha=0.01, reg_lambda=1e-05 ................................\n",
      "[CV] .... reg_alpha=0.01, reg_lambda=1e-05, score=0.732, total=  25.1s\n",
      "[CV] reg_alpha=0.01, reg_lambda=0.01 .................................\n",
      "[CV] ..... reg_alpha=0.01, reg_lambda=0.01, score=0.741, total=  24.4s\n",
      "[CV] reg_alpha=0.01, reg_lambda=0.01 .................................\n",
      "[CV] ..... reg_alpha=0.01, reg_lambda=0.01, score=0.737, total=  23.1s\n",
      "[CV] reg_alpha=0.01, reg_lambda=0.01 .................................\n",
      "[CV] ..... reg_alpha=0.01, reg_lambda=0.01, score=0.735, total=  24.7s\n",
      "[CV] reg_alpha=0.01, reg_lambda=0.01 .................................\n",
      "[CV] ..... reg_alpha=0.01, reg_lambda=0.01, score=0.731, total=  22.6s\n",
      "[CV] reg_alpha=0.01, reg_lambda=0.1 ..................................\n",
      "[CV] ...... reg_alpha=0.01, reg_lambda=0.1, score=0.742, total=  20.4s\n",
      "[CV] reg_alpha=0.01, reg_lambda=0.1 ..................................\n",
      "[CV] ...... reg_alpha=0.01, reg_lambda=0.1, score=0.737, total=  25.3s\n",
      "[CV] reg_alpha=0.01, reg_lambda=0.1 ..................................\n",
      "[CV] ...... reg_alpha=0.01, reg_lambda=0.1, score=0.737, total=  30.6s\n",
      "[CV] reg_alpha=0.01, reg_lambda=0.1 ..................................\n",
      "[CV] ...... reg_alpha=0.01, reg_lambda=0.1, score=0.729, total=  33.3s\n",
      "[CV] reg_alpha=0.01, reg_lambda=1 ....................................\n",
      "[CV] ........ reg_alpha=0.01, reg_lambda=1, score=0.741, total=  23.0s\n",
      "[CV] reg_alpha=0.01, reg_lambda=1 ....................................\n",
      "[CV] ........ reg_alpha=0.01, reg_lambda=1, score=0.737, total=  25.4s\n",
      "[CV] reg_alpha=0.01, reg_lambda=1 ....................................\n",
      "[CV] ........ reg_alpha=0.01, reg_lambda=1, score=0.736, total=  29.2s\n",
      "[CV] reg_alpha=0.01, reg_lambda=1 ....................................\n",
      "[CV] ........ reg_alpha=0.01, reg_lambda=1, score=0.732, total=  26.9s\n",
      "[CV] reg_alpha=0.01, reg_lambda=100 ..................................\n",
      "[CV] ...... reg_alpha=0.01, reg_lambda=100, score=0.739, total=  41.2s\n",
      "[CV] reg_alpha=0.01, reg_lambda=100 ..................................\n",
      "[CV] ...... reg_alpha=0.01, reg_lambda=100, score=0.733, total=  58.7s\n",
      "[CV] reg_alpha=0.01, reg_lambda=100 ..................................\n",
      "[CV] ...... reg_alpha=0.01, reg_lambda=100, score=0.735, total= 1.2min\n",
      "[CV] reg_alpha=0.01, reg_lambda=100 ..................................\n",
      "[CV] ...... reg_alpha=0.01, reg_lambda=100, score=0.731, total= 1.1min\n",
      "[CV] reg_alpha=0.1, reg_lambda=1e-05 .................................\n",
      "[CV] ..... reg_alpha=0.1, reg_lambda=1e-05, score=0.742, total= 1.0min\n",
      "[CV] reg_alpha=0.1, reg_lambda=1e-05 .................................\n",
      "[CV] ..... reg_alpha=0.1, reg_lambda=1e-05, score=0.734, total=  57.2s\n",
      "[CV] reg_alpha=0.1, reg_lambda=1e-05 .................................\n",
      "[CV] ..... reg_alpha=0.1, reg_lambda=1e-05, score=0.736, total=  47.2s\n",
      "[CV] reg_alpha=0.1, reg_lambda=1e-05 .................................\n",
      "[CV] ..... reg_alpha=0.1, reg_lambda=1e-05, score=0.731, total= 1.2min\n",
      "[CV] reg_alpha=0.1, reg_lambda=0.01 ..................................\n",
      "[CV] ...... reg_alpha=0.1, reg_lambda=0.01, score=0.741, total= 1.2min\n",
      "[CV] reg_alpha=0.1, reg_lambda=0.01 ..................................\n",
      "[CV] ...... reg_alpha=0.1, reg_lambda=0.01, score=0.737, total=  53.7s\n",
      "[CV] reg_alpha=0.1, reg_lambda=0.01 ..................................\n",
      "[CV] ...... reg_alpha=0.1, reg_lambda=0.01, score=0.737, total=  45.3s\n",
      "[CV] reg_alpha=0.1, reg_lambda=0.01 ..................................\n",
      "[CV] ...... reg_alpha=0.1, reg_lambda=0.01, score=0.731, total=  45.3s\n",
      "[CV] reg_alpha=0.1, reg_lambda=0.1 ...................................\n",
      "[CV] ....... reg_alpha=0.1, reg_lambda=0.1, score=0.743, total=  54.3s\n",
      "[CV] reg_alpha=0.1, reg_lambda=0.1 ...................................\n",
      "[CV] ....... reg_alpha=0.1, reg_lambda=0.1, score=0.738, total=  53.3s\n",
      "[CV] reg_alpha=0.1, reg_lambda=0.1 ...................................\n",
      "[CV] ....... reg_alpha=0.1, reg_lambda=0.1, score=0.735, total=  51.7s\n",
      "[CV] reg_alpha=0.1, reg_lambda=0.1 ...................................\n",
      "[CV] ....... reg_alpha=0.1, reg_lambda=0.1, score=0.731, total=  55.4s\n",
      "[CV] reg_alpha=0.1, reg_lambda=1 .....................................\n",
      "[CV] ......... reg_alpha=0.1, reg_lambda=1, score=0.743, total=  44.3s\n",
      "[CV] reg_alpha=0.1, reg_lambda=1 .....................................\n",
      "[CV] ......... reg_alpha=0.1, reg_lambda=1, score=0.737, total=  50.1s\n",
      "[CV] reg_alpha=0.1, reg_lambda=1 .....................................\n",
      "[CV] ......... reg_alpha=0.1, reg_lambda=1, score=0.737, total= 1.2min\n",
      "[CV] reg_alpha=0.1, reg_lambda=1 .....................................\n",
      "[CV] ......... reg_alpha=0.1, reg_lambda=1, score=0.732, total=  59.0s\n",
      "[CV] reg_alpha=0.1, reg_lambda=100 ...................................\n",
      "[CV] ....... reg_alpha=0.1, reg_lambda=100, score=0.739, total=  57.5s\n",
      "[CV] reg_alpha=0.1, reg_lambda=100 ...................................\n",
      "[CV] ....... reg_alpha=0.1, reg_lambda=100, score=0.733, total=  48.4s\n",
      "[CV] reg_alpha=0.1, reg_lambda=100 ...................................\n",
      "[CV] ....... reg_alpha=0.1, reg_lambda=100, score=0.734, total=  45.9s\n",
      "[CV] reg_alpha=0.1, reg_lambda=100 ...................................\n",
      "[CV] ....... reg_alpha=0.1, reg_lambda=100, score=0.731, total=  52.8s\n",
      "[CV] reg_alpha=1, reg_lambda=1e-05 ...................................\n",
      "[CV] ....... reg_alpha=1, reg_lambda=1e-05, score=0.745, total=  47.2s\n",
      "[CV] reg_alpha=1, reg_lambda=1e-05 ...................................\n",
      "[CV] ....... reg_alpha=1, reg_lambda=1e-05, score=0.737, total=  44.2s\n",
      "[CV] reg_alpha=1, reg_lambda=1e-05 ...................................\n"
     ]
    },
    {
     "name": "stdout",
     "output_type": "stream",
     "text": [
      "[CV] ....... reg_alpha=1, reg_lambda=1e-05, score=0.738, total=  40.8s\n",
      "[CV] reg_alpha=1, reg_lambda=1e-05 ...................................\n",
      "[CV] ....... reg_alpha=1, reg_lambda=1e-05, score=0.734, total= 1.1min\n",
      "[CV] reg_alpha=1, reg_lambda=0.01 ....................................\n",
      "[CV] ........ reg_alpha=1, reg_lambda=0.01, score=0.745, total=  55.4s\n",
      "[CV] reg_alpha=1, reg_lambda=0.01 ....................................\n",
      "[CV] ........ reg_alpha=1, reg_lambda=0.01, score=0.738, total=  51.9s\n",
      "[CV] reg_alpha=1, reg_lambda=0.01 ....................................\n",
      "[CV] ........ reg_alpha=1, reg_lambda=0.01, score=0.739, total=  54.0s\n",
      "[CV] reg_alpha=1, reg_lambda=0.01 ....................................\n",
      "[CV] ........ reg_alpha=1, reg_lambda=0.01, score=0.734, total=  42.6s\n",
      "[CV] reg_alpha=1, reg_lambda=0.1 .....................................\n",
      "[CV] ......... reg_alpha=1, reg_lambda=0.1, score=0.744, total=  44.0s\n",
      "[CV] reg_alpha=1, reg_lambda=0.1 .....................................\n",
      "[CV] ......... reg_alpha=1, reg_lambda=0.1, score=0.739, total=  39.0s\n",
      "[CV] reg_alpha=1, reg_lambda=0.1 .....................................\n",
      "[CV] ......... reg_alpha=1, reg_lambda=0.1, score=0.737, total=  34.7s\n",
      "[CV] reg_alpha=1, reg_lambda=0.1 .....................................\n",
      "[CV] ......... reg_alpha=1, reg_lambda=0.1, score=0.735, total=  40.3s\n",
      "[CV] reg_alpha=1, reg_lambda=1 .......................................\n",
      "[CV] ........... reg_alpha=1, reg_lambda=1, score=0.745, total=  44.8s\n",
      "[CV] reg_alpha=1, reg_lambda=1 .......................................\n",
      "[CV] ........... reg_alpha=1, reg_lambda=1, score=0.739, total=  38.3s\n",
      "[CV] reg_alpha=1, reg_lambda=1 .......................................\n",
      "[CV] ........... reg_alpha=1, reg_lambda=1, score=0.738, total=  41.6s\n",
      "[CV] reg_alpha=1, reg_lambda=1 .......................................\n",
      "[CV] ........... reg_alpha=1, reg_lambda=1, score=0.735, total=  42.5s\n",
      "[CV] reg_alpha=1, reg_lambda=100 .....................................\n",
      "[CV] ......... reg_alpha=1, reg_lambda=100, score=0.739, total=  58.0s\n",
      "[CV] reg_alpha=1, reg_lambda=100 .....................................\n",
      "[CV] ......... reg_alpha=1, reg_lambda=100, score=0.732, total= 1.0min\n",
      "[CV] reg_alpha=1, reg_lambda=100 .....................................\n",
      "[CV] ......... reg_alpha=1, reg_lambda=100, score=0.735, total= 1.1min\n",
      "[CV] reg_alpha=1, reg_lambda=100 .....................................\n",
      "[CV] ......... reg_alpha=1, reg_lambda=100, score=0.731, total=  57.3s\n",
      "[CV] reg_alpha=100, reg_lambda=1e-05 .................................\n",
      "[CV] ..... reg_alpha=100, reg_lambda=1e-05, score=0.668, total=  16.8s\n",
      "[CV] reg_alpha=100, reg_lambda=1e-05 .................................\n",
      "[CV] ..... reg_alpha=100, reg_lambda=1e-05, score=0.669, total=  21.7s\n",
      "[CV] reg_alpha=100, reg_lambda=1e-05 .................................\n",
      "[CV] ..... reg_alpha=100, reg_lambda=1e-05, score=0.670, total=  24.4s\n",
      "[CV] reg_alpha=100, reg_lambda=1e-05 .................................\n",
      "[CV] ..... reg_alpha=100, reg_lambda=1e-05, score=0.658, total=  21.8s\n",
      "[CV] reg_alpha=100, reg_lambda=0.01 ..................................\n",
      "[CV] ...... reg_alpha=100, reg_lambda=0.01, score=0.668, total=  33.8s\n",
      "[CV] reg_alpha=100, reg_lambda=0.01 ..................................\n",
      "[CV] ...... reg_alpha=100, reg_lambda=0.01, score=0.669, total=  30.7s\n",
      "[CV] reg_alpha=100, reg_lambda=0.01 ..................................\n",
      "[CV] ...... reg_alpha=100, reg_lambda=0.01, score=0.670, total=  27.5s\n",
      "[CV] reg_alpha=100, reg_lambda=0.01 ..................................\n",
      "[CV] ...... reg_alpha=100, reg_lambda=0.01, score=0.658, total=  20.5s\n",
      "[CV] reg_alpha=100, reg_lambda=0.1 ...................................\n",
      "[CV] ....... reg_alpha=100, reg_lambda=0.1, score=0.668, total=  20.3s\n",
      "[CV] reg_alpha=100, reg_lambda=0.1 ...................................\n",
      "[CV] ....... reg_alpha=100, reg_lambda=0.1, score=0.669, total=  20.2s\n",
      "[CV] reg_alpha=100, reg_lambda=0.1 ...................................\n",
      "[CV] ....... reg_alpha=100, reg_lambda=0.1, score=0.670, total=  23.7s\n",
      "[CV] reg_alpha=100, reg_lambda=0.1 ...................................\n",
      "[CV] ....... reg_alpha=100, reg_lambda=0.1, score=0.658, total=  22.4s\n",
      "[CV] reg_alpha=100, reg_lambda=1 .....................................\n",
      "[CV] ......... reg_alpha=100, reg_lambda=1, score=0.668, total=  21.7s\n",
      "[CV] reg_alpha=100, reg_lambda=1 .....................................\n",
      "[CV] ......... reg_alpha=100, reg_lambda=1, score=0.668, total=  24.6s\n",
      "[CV] reg_alpha=100, reg_lambda=1 .....................................\n",
      "[CV] ......... reg_alpha=100, reg_lambda=1, score=0.669, total=  33.1s\n",
      "[CV] reg_alpha=100, reg_lambda=1 .....................................\n",
      "[CV] ......... reg_alpha=100, reg_lambda=1, score=0.658, total=  21.7s\n",
      "[CV] reg_alpha=100, reg_lambda=100 ...................................\n",
      "[CV] ....... reg_alpha=100, reg_lambda=100, score=0.668, total=  26.7s\n",
      "[CV] reg_alpha=100, reg_lambda=100 ...................................\n",
      "[CV] ....... reg_alpha=100, reg_lambda=100, score=0.669, total=  20.7s\n",
      "[CV] reg_alpha=100, reg_lambda=100 ...................................\n",
      "[CV] ....... reg_alpha=100, reg_lambda=100, score=0.669, total=  20.3s\n",
      "[CV] reg_alpha=100, reg_lambda=100 ...................................\n",
      "[CV] ....... reg_alpha=100, reg_lambda=100, score=0.658, total=  22.4s\n"
     ]
    },
    {
     "name": "stderr",
     "output_type": "stream",
     "text": [
      "[Parallel(n_jobs=1)]: Done 100 out of 100 | elapsed: 62.1min finished\n"
     ]
    },
    {
     "name": "stdout",
     "output_type": "stream",
     "text": [
      "Best score (AUC):  0.7391588927221746\n",
      "Best params: \n"
     ]
    },
    {
     "data": {
      "text/plain": [
       "{'boosting_type': 'gbdt',\n",
       " 'class_weight': None,\n",
       " 'colsample_bytree': 0.8,\n",
       " 'importance_type': 'split',\n",
       " 'learning_rate': 0.1,\n",
       " 'max_depth': 9,\n",
       " 'min_child_samples': 20,\n",
       " 'min_child_weight': 3,\n",
       " 'min_split_gain': 0.0,\n",
       " 'n_estimators': 1000,\n",
       " 'n_jobs': -1,\n",
       " 'num_leaves': 31,\n",
       " 'objective': None,\n",
       " 'random_state': None,\n",
       " 'reg_alpha': 1,\n",
       " 'reg_lambda': 1,\n",
       " 'silent': True,\n",
       " 'subsample': 0.5,\n",
       " 'subsample_for_bin': 200000,\n",
       " 'subsample_freq': 0,\n",
       " 'gamma': 0.0,\n",
       " 'scale_pos_weight': 0.27826383365526647}"
      ]
     },
     "execution_count": 19,
     "metadata": {},
     "output_type": "execute_result"
    }
   ],
   "source": [
    "param_grid = {\n",
    "    'reg_alpha': [1e-5, 1e-2, 0.1, 1, 100],\n",
    "    'reg_lambda': [1e-5, 1e-2, 0.1, 1, 100]\n",
    "}\n",
    "\n",
    "model2 = lgb.LGBMClassifier(**best_params)\n",
    "gs = GridSearchCV(model2, param_grid, scoring='roc_auc', cv=cv, verbose=5)\n",
    "\n",
    "gs.fit(train, y_train)\n",
    "best_params = gs.best_estimator_.get_params()\n",
    "print('Best score (AUC): ', gs.best_score_)\n",
    "print('Best params: ')\n",
    "best_params"
   ]
  },
  {
   "cell_type": "code",
   "execution_count": 38,
   "metadata": {},
   "outputs": [
    {
     "data": {
      "text/plain": [
       "(0.8595836215482584, 0.741268743951971)"
      ]
     },
     "execution_count": 38,
     "metadata": {},
     "output_type": "execute_result"
    }
   ],
   "source": [
    "model2 = lgb.LGBMClassifier(**best_params)\n",
    "model2.fit(train, y_train)\n",
    "\n",
    "auc(model2, train, test)"
   ]
  },
  {
   "cell_type": "code",
   "execution_count": 26,
   "metadata": {},
   "outputs": [
    {
     "name": "stdout",
     "output_type": "stream",
     "text": [
      "Feature: \"MONTH\"\tFeature importance: 2598.0000\n",
      "Feature: \"DAY\"\tFeature importance: 3047.0000\n",
      "Feature: \"DAY_OF_WEEK\"\tFeature importance: 1516.0000\n",
      "Feature: \"AIRLINE\"\tFeature importance: 1586.0000\n",
      "Feature: \"FLIGHT_NUMBER\"\tFeature importance: 3704.0000\n",
      "Feature: \"DESTINATION_AIRPORT\"\tFeature importance: 2874.0000\n",
      "Feature: \"ORIGIN_AIRPORT\"\tFeature importance: 3002.0000\n",
      "Feature: \"AIR_TIME\"\tFeature importance: 3537.0000\n",
      "Feature: \"DEPARTURE_TIME\"\tFeature importance: 4894.0000\n",
      "Feature: \"DISTANCE\"\tFeature importance: 3242.0000\n"
     ]
    }
   ],
   "source": [
    "for feature_name, feature_importance in zip(train.columns, model2.feature_importances_):\n",
    "    print('Feature: \"%s\"\\tFeature importance: %.4f' % (feature_name, feature_importance))"
   ]
  },
  {
   "cell_type": "code",
   "execution_count": 39,
   "metadata": {},
   "outputs": [
    {
     "data": {
      "text/plain": [
       "'Accuracy (test): 0.795'"
      ]
     },
     "execution_count": 39,
     "metadata": {},
     "output_type": "execute_result"
    }
   ],
   "source": [
    "from sklearn.metrics import accuracy_score\n",
    "\n",
    "y_pred = model2.predict(test)\n",
    "\"Accuracy (test): %.3f\" % accuracy_score(y_pred, y_test)"
   ]
  },
  {
   "cell_type": "markdown",
   "metadata": {},
   "source": [
    "### XGBoost"
   ]
  },
  {
   "cell_type": "code",
   "execution_count": 42,
   "metadata": {},
   "outputs": [
    {
     "data": {
      "text/plain": [
       "(0.7037043597582944, 0.6957299469499221)"
      ]
     },
     "execution_count": 42,
     "metadata": {},
     "output_type": "execute_result"
    }
   ],
   "source": [
    "model = xgb.XGBClassifier()\n",
    "model.fit(train, np.array(y_train))\n",
    "\n",
    "auc(model, train, test)"
   ]
  },
  {
   "cell_type": "code",
   "execution_count": 54,
   "metadata": {},
   "outputs": [],
   "source": [
    "xgb_params = {'base_score': 0.5,\n",
    " 'booster': 'gbtree',\n",
    " 'colsample_bylevel': 1,\n",
    " 'colsample_bytree': 0.8,\n",
    " 'gamma': 0.0,\n",
    " 'learning_rate': 0.5,\n",
    " 'max_delta_step': 0,\n",
    " 'max_depth': 9,\n",
    " 'min_child_weight': 3,\n",
    " 'missing': None,\n",
    " 'n_estimators': 31,\n",
    " 'n_jobs': 1,\n",
    " 'nthread': 1,\n",
    " 'objective': 'binary:logistic',\n",
    " 'random_state': 0,\n",
    " 'reg_alpha': 1,\n",
    " 'reg_lambda': 1,\n",
    " 'scale_pos_weight': 0.27826383365526647,\n",
    " 'seed': 0,\n",
    " 'silent': True,\n",
    " 'subsample': 0.5}"
   ]
  },
  {
   "cell_type": "code",
   "execution_count": 55,
   "metadata": {},
   "outputs": [
    {
     "data": {
      "text/plain": [
       "(0.7929877017576002, 0.7085435472649705)"
      ]
     },
     "execution_count": 55,
     "metadata": {},
     "output_type": "execute_result"
    }
   ],
   "source": [
    "model = xgb.XGBClassifier(**xgb_params)\n",
    "model.fit(train, np.array(y_train))\n",
    "\n",
    "auc(model, train, test)"
   ]
  },
  {
   "cell_type": "markdown",
   "metadata": {},
   "source": [
    "### Catboost"
   ]
  },
  {
   "cell_type": "code",
   "execution_count": 19,
   "metadata": {},
   "outputs": [
    {
     "data": {
      "text/plain": [
       "(0.7170484823706651, 0.7025652854461808)"
      ]
     },
     "execution_count": 19,
     "metadata": {},
     "output_type": "execute_result"
    }
   ],
   "source": [
    "clf = cb.CatBoostClassifier(iterations=30, silent=True)\n",
    "clf.fit(train,y_train)\n",
    "\n",
    "auc(clf, train, test)"
   ]
  }
 ],
 "metadata": {
  "kernelspec": {
   "display_name": "Python 3",
   "language": "python",
   "name": "python3"
  },
  "language_info": {
   "codemirror_mode": {
    "name": "ipython",
    "version": 3
   },
   "file_extension": ".py",
   "mimetype": "text/x-python",
   "name": "python",
   "nbconvert_exporter": "python",
   "pygments_lexer": "ipython3",
   "version": "3.7.3"
  }
 },
 "nbformat": 4,
 "nbformat_minor": 2
}
